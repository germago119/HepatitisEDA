{
 "cells": [
  {
   "cell_type": "code",
   "execution_count": 73,
   "outputs": [],
   "source": [
    "import pandas as pd\n",
    "import numpy as np\n",
    "import matplotlib.pyplot as plt\n",
    "import seaborn  as sns\n",
    "import lux\n",
    "%matplotlib inline\n",
    "\n",
    "import warnings\n",
    "\n",
    "\n",
    "warnings.filterwarnings('ignore')"
   ],
   "metadata": {
    "collapsed": false,
    "pycharm": {
     "name": "#%%\n"
    }
   }
  },
  {
   "cell_type": "code",
   "execution_count": 74,
   "outputs": [],
   "source": [
    "delete_this = [31221128,\n",
    "               31221231,\n",
    "               31221434,\n",
    "               40921050,\n",
    "               41021554,\n",
    "               41221061,\n",
    "               61221498,\n",
    "               70821013,\n",
    "               70821043,\n",
    "               81221488,\n",
    "               91021042,\n",
    "               91221268,\n",
    "               100122022,\n",
    "               100122097,\n",
    "               100122356,\n",
    "               101221028,\n",
    "               101221099,\n",
    "               101221366,\n",
    "               101221422,\n",
    "               110921024,\n",
    "               110921038,\n",
    "               131121022,\n",
    "               131221190,\n",
    "               131221370,\n",
    "               131221388,\n",
    "               131221431,\n",
    "               140921285,\n",
    "               140921298,\n",
    "               141221021,\n",
    "               141221033,\n",
    "               141221048,\n",
    "               141221216,\n",
    "               151021188,\n",
    "               151021206,\n",
    "               161221148,\n",
    "               161221265,\n",
    "               161221325,\n",
    "               161221329,\n",
    "               161221374,\n",
    "               170921111,\n",
    "               171221157,\n",
    "               171221183,\n",
    "               171221372,\n",
    "               180921021,\n",
    "               181121260,\n",
    "               190921028,\n",
    "               190921047,\n",
    "               200921420,\n",
    "               201021313,\n",
    "               201121042,\n",
    "               201221121,\n",
    "               201221161,\n",
    "               201221202,\n",
    "               201221489,\n",
    "               211221031,\n",
    "               211221289,\n",
    "               211221342,\n",
    "               221021197,\n",
    "               221121534,\n",
    "               221221010,\n",
    "               231221195,\n",
    "               231221352,\n",
    "               240921455,\n",
    "               241121102,\n",
    "               241121388,\n",
    "               241221163,\n",
    "               251021275,\n",
    "               251121456,\n",
    "               71221025,\n",
    "               71221172,\n",
    "               71221219,\n",
    "               71221228,\n",
    "               71221273,\n",
    "               81221169,\n",
    "               81221273,\n",
    "               81221286,\n",
    "               91221138,\n",
    "               91221176,\n",
    "               91221297,\n",
    "               91221330,\n",
    "               281221289]"
   ],
   "metadata": {
    "collapsed": false,
    "pycharm": {
     "name": "#%%\n"
    }
   }
  },
  {
   "cell_type": "code",
   "execution_count": 75,
   "outputs": [
    {
     "data": {
      "text/plain": "      Orden Prueba  Resultado Sexo  Edad  Edad en Dias\n0  10921133   BILT       0.87    F    25          9131\n1  10921133    AST      45.00    F    25          9131\n2  10921133    ALT     106.00    F    25          9131\n3  10921133    ALP     121.00    F    25          9131\n4  10921133    GGT      31.00    F    25          9131",
      "text/html": "<div>\n<style scoped>\n    .dataframe tbody tr th:only-of-type {\n        vertical-align: middle;\n    }\n\n    .dataframe tbody tr th {\n        vertical-align: top;\n    }\n\n    .dataframe thead th {\n        text-align: right;\n    }\n</style>\n<table border=\"1\" class=\"dataframe\">\n  <thead>\n    <tr style=\"text-align: right;\">\n      <th></th>\n      <th>Orden</th>\n      <th>Prueba</th>\n      <th>Resultado</th>\n      <th>Sexo</th>\n      <th>Edad</th>\n      <th>Edad en Dias</th>\n    </tr>\n  </thead>\n  <tbody>\n    <tr>\n      <th>0</th>\n      <td>10921133</td>\n      <td>BILT</td>\n      <td>0.87</td>\n      <td>F</td>\n      <td>25</td>\n      <td>9131</td>\n    </tr>\n    <tr>\n      <th>1</th>\n      <td>10921133</td>\n      <td>AST</td>\n      <td>45.00</td>\n      <td>F</td>\n      <td>25</td>\n      <td>9131</td>\n    </tr>\n    <tr>\n      <th>2</th>\n      <td>10921133</td>\n      <td>ALT</td>\n      <td>106.00</td>\n      <td>F</td>\n      <td>25</td>\n      <td>9131</td>\n    </tr>\n    <tr>\n      <th>3</th>\n      <td>10921133</td>\n      <td>ALP</td>\n      <td>121.00</td>\n      <td>F</td>\n      <td>25</td>\n      <td>9131</td>\n    </tr>\n    <tr>\n      <th>4</th>\n      <td>10921133</td>\n      <td>GGT</td>\n      <td>31.00</td>\n      <td>F</td>\n      <td>25</td>\n      <td>9131</td>\n    </tr>\n  </tbody>\n</table>\n</div>"
     },
     "execution_count": 75,
     "metadata": {},
     "output_type": "execute_result"
    }
   ],
   "source": [
    "hepa_oct = pd.read_csv(\"oct.csv\")\n",
    "hepa_oct.head()"
   ],
   "metadata": {
    "collapsed": false,
    "pycharm": {
     "name": "#%%\n"
    }
   }
  },
  {
   "cell_type": "code",
   "execution_count": 76,
   "outputs": [
    {
     "name": "stdout",
     "output_type": "stream",
     "text": [
      "<class 'pandas.core.frame.DataFrame'>\n",
      "RangeIndex: 2142 entries, 0 to 2141\n",
      "Data columns (total 6 columns):\n",
      " #   Column        Non-Null Count  Dtype  \n",
      "---  ------        --------------  -----  \n",
      " 0   Orden         2142 non-null   int64  \n",
      " 1   Prueba        2142 non-null   object \n",
      " 2   Resultado     2129 non-null   float64\n",
      " 3   Sexo          2137 non-null   object \n",
      " 4   Edad          2142 non-null   int64  \n",
      " 5   Edad en Dias  2142 non-null   int64  \n",
      "dtypes: float64(1), int64(3), object(2)\n",
      "memory usage: 100.5+ KB\n"
     ]
    }
   ],
   "source": [
    "hepa_oct.info()"
   ],
   "metadata": {
    "collapsed": false,
    "pycharm": {
     "name": "#%%\n"
    }
   }
  },
  {
   "cell_type": "code",
   "execution_count": 77,
   "outputs": [
    {
     "data": {
      "text/plain": "(2142, 6)"
     },
     "execution_count": 77,
     "metadata": {},
     "output_type": "execute_result"
    }
   ],
   "source": [
    "hepa_oct.shape"
   ],
   "metadata": {
    "collapsed": false,
    "pycharm": {
     "name": "#%%\n"
    }
   }
  },
  {
   "cell_type": "code",
   "execution_count": 78,
   "outputs": [
    {
     "data": {
      "text/plain": "               count          mean           std         min         25%  \\\nOrden         2142.0  1.474997e+08  8.511296e+07  10921133.0  71221273.0   \nResultado     2129.0  5.828257e+01  2.159673e+02         0.2        13.0   \nEdad          2142.0  4.434827e+01  2.187191e+01         0.0        28.0   \nEdad en Dias  2142.0  1.619820e+04  7.988337e+03         0.0     10227.0   \n\n                      50%          75%          max  \nOrden         146071111.5  220921079.0  311021048.0  \nResultado            24.0         63.0       5972.0  \nEdad                 46.0         62.0         93.0  \nEdad en Dias      16801.0      22645.0      33967.0  ",
      "text/html": "<div>\n<style scoped>\n    .dataframe tbody tr th:only-of-type {\n        vertical-align: middle;\n    }\n\n    .dataframe tbody tr th {\n        vertical-align: top;\n    }\n\n    .dataframe thead th {\n        text-align: right;\n    }\n</style>\n<table border=\"1\" class=\"dataframe\">\n  <thead>\n    <tr style=\"text-align: right;\">\n      <th></th>\n      <th>count</th>\n      <th>mean</th>\n      <th>std</th>\n      <th>min</th>\n      <th>25%</th>\n      <th>50%</th>\n      <th>75%</th>\n      <th>max</th>\n    </tr>\n  </thead>\n  <tbody>\n    <tr>\n      <th>Orden</th>\n      <td>2142.0</td>\n      <td>1.474997e+08</td>\n      <td>8.511296e+07</td>\n      <td>10921133.0</td>\n      <td>71221273.0</td>\n      <td>146071111.5</td>\n      <td>220921079.0</td>\n      <td>311021048.0</td>\n    </tr>\n    <tr>\n      <th>Resultado</th>\n      <td>2129.0</td>\n      <td>5.828257e+01</td>\n      <td>2.159673e+02</td>\n      <td>0.2</td>\n      <td>13.0</td>\n      <td>24.0</td>\n      <td>63.0</td>\n      <td>5972.0</td>\n    </tr>\n    <tr>\n      <th>Edad</th>\n      <td>2142.0</td>\n      <td>4.434827e+01</td>\n      <td>2.187191e+01</td>\n      <td>0.0</td>\n      <td>28.0</td>\n      <td>46.0</td>\n      <td>62.0</td>\n      <td>93.0</td>\n    </tr>\n    <tr>\n      <th>Edad en Dias</th>\n      <td>2142.0</td>\n      <td>1.619820e+04</td>\n      <td>7.988337e+03</td>\n      <td>0.0</td>\n      <td>10227.0</td>\n      <td>16801.0</td>\n      <td>22645.0</td>\n      <td>33967.0</td>\n    </tr>\n  </tbody>\n</table>\n</div>"
     },
     "execution_count": 78,
     "metadata": {},
     "output_type": "execute_result"
    }
   ],
   "source": [
    "hepa_oct.describe().T"
   ],
   "metadata": {
    "collapsed": false,
    "pycharm": {
     "name": "#%%\n"
    }
   }
  },
  {
   "cell_type": "code",
   "execution_count": 79,
   "outputs": [
    {
     "name": "stdout",
     "output_type": "stream",
     "text": [
      "<class 'pandas.core.frame.DataFrame'>\n",
      "Int64Index: 1895 entries, 0 to 2141\n",
      "Data columns (total 6 columns):\n",
      " #   Column        Non-Null Count  Dtype  \n",
      "---  ------        --------------  -----  \n",
      " 0   Orden         1895 non-null   int64  \n",
      " 1   Prueba        1895 non-null   object \n",
      " 2   Resultado     1895 non-null   float64\n",
      " 3   Sexo          1890 non-null   object \n",
      " 4   Edad          1895 non-null   int64  \n",
      " 5   Edad en Dias  1895 non-null   int64  \n",
      "dtypes: float64(1), int64(3), object(2)\n",
      "memory usage: 103.6+ KB\n"
     ]
    }
   ],
   "source": [
    "nov5 = hepa_oct.drop(hepa_oct[hepa_oct.Orden.isin(delete_this)].index.tolist())\n",
    "nov5.info()"
   ],
   "metadata": {
    "collapsed": false,
    "pycharm": {
     "name": "#%%\n"
    }
   }
  },
  {
   "cell_type": "code",
   "execution_count": 80,
   "outputs": [
    {
     "data": {
      "text/plain": "Orden           0\nPrueba          0\nResultado       0\nSexo            5\nEdad            0\nEdad en Dias    0\ndtype: int64"
     },
     "execution_count": 80,
     "metadata": {},
     "output_type": "execute_result"
    }
   ],
   "source": [
    "nov5.isnull().sum()"
   ],
   "metadata": {
    "collapsed": false,
    "pycharm": {
     "name": "#%%\n"
    }
   }
  },
  {
   "cell_type": "code",
   "execution_count": 82,
   "outputs": [
    {
     "data": {
      "text/plain": "Orden           0\nPrueba          0\nResultado       0\nSexo            0\nEdad            0\nEdad en Dias    0\ndtype: int64"
     },
     "execution_count": 82,
     "metadata": {},
     "output_type": "execute_result"
    }
   ],
   "source": [
    "mulls = nov5.drop(nov5[nov5.Sexo.isnull()].index.tolist())\n",
    "mulls.isnull().sum()"
   ],
   "metadata": {
    "collapsed": false,
    "pycharm": {
     "name": "#%%\n"
    }
   }
  },
  {
   "cell_type": "code",
   "execution_count": 83,
   "outputs": [
    {
     "name": "stdout",
     "output_type": "stream",
     "text": [
      "<class 'pandas.core.frame.DataFrame'>\n",
      "Int64Index: 1890 entries, 0 to 2141\n",
      "Data columns (total 6 columns):\n",
      " #   Column        Non-Null Count  Dtype  \n",
      "---  ------        --------------  -----  \n",
      " 0   Orden         1890 non-null   int64  \n",
      " 1   Prueba        1890 non-null   object \n",
      " 2   Resultado     1890 non-null   float64\n",
      " 3   Sexo          1890 non-null   object \n",
      " 4   Edad          1890 non-null   int64  \n",
      " 5   Edad en Dias  1890 non-null   int64  \n",
      "dtypes: float64(1), int64(3), object(2)\n",
      "memory usage: 103.4+ KB\n"
     ]
    }
   ],
   "source": [
    "mulls.info()"
   ],
   "metadata": {
    "collapsed": false,
    "pycharm": {
     "name": "#%%\n"
    }
   }
  },
  {
   "cell_type": "code",
   "execution_count": 84,
   "outputs": [
    {
     "data": {
      "text/plain": "Orden         52\nPrueba         5\nResultado    145\nSexo           3\nEdad          15\ndtype: int64"
     },
     "execution_count": 84,
     "metadata": {},
     "output_type": "execute_result"
    }
   ],
   "source": [
    "menores = mulls[mulls['Edad'] <= 17]\n",
    "menores.nunique().head()"
   ],
   "metadata": {
    "collapsed": false,
    "pycharm": {
     "name": "#%%\n"
    }
   }
  },
  {
   "cell_type": "code",
   "execution_count": 85,
   "outputs": [
    {
     "name": "stdout",
     "output_type": "stream",
     "text": [
      "<class 'pandas.core.frame.DataFrame'>\n",
      "Int64Index: 260 entries, 45 to 2126\n",
      "Data columns (total 6 columns):\n",
      " #   Column        Non-Null Count  Dtype  \n",
      "---  ------        --------------  -----  \n",
      " 0   Orden         260 non-null    int64  \n",
      " 1   Prueba        260 non-null    object \n",
      " 2   Resultado     260 non-null    float64\n",
      " 3   Sexo          260 non-null    object \n",
      " 4   Edad          260 non-null    int64  \n",
      " 5   Edad en Dias  260 non-null    int64  \n",
      "dtypes: float64(1), int64(3), object(2)\n",
      "memory usage: 14.2+ KB\n"
     ]
    }
   ],
   "source": [
    "menores.info()"
   ],
   "metadata": {
    "collapsed": false,
    "pycharm": {
     "name": "#%%\n"
    }
   }
  },
  {
   "cell_type": "code",
   "execution_count": 86,
   "outputs": [
    {
     "data": {
      "text/plain": "       Orden Prueba  Resultado Sexo  Edad  Edad en Dias\n45  11121365   BILT        0.6    M    17          6209\n46  11121365    AST       23.0    M    17          6209\n47  11121365    ALT       15.0    M    17          6209\n48  11121365    ALP      189.0    M    17          6209\n49  11121365    GGT       15.0    M    17          6209",
      "text/html": "<div>\n<style scoped>\n    .dataframe tbody tr th:only-of-type {\n        vertical-align: middle;\n    }\n\n    .dataframe tbody tr th {\n        vertical-align: top;\n    }\n\n    .dataframe thead th {\n        text-align: right;\n    }\n</style>\n<table border=\"1\" class=\"dataframe\">\n  <thead>\n    <tr style=\"text-align: right;\">\n      <th></th>\n      <th>Orden</th>\n      <th>Prueba</th>\n      <th>Resultado</th>\n      <th>Sexo</th>\n      <th>Edad</th>\n      <th>Edad en Dias</th>\n    </tr>\n  </thead>\n  <tbody>\n    <tr>\n      <th>45</th>\n      <td>11121365</td>\n      <td>BILT</td>\n      <td>0.6</td>\n      <td>M</td>\n      <td>17</td>\n      <td>6209</td>\n    </tr>\n    <tr>\n      <th>46</th>\n      <td>11121365</td>\n      <td>AST</td>\n      <td>23.0</td>\n      <td>M</td>\n      <td>17</td>\n      <td>6209</td>\n    </tr>\n    <tr>\n      <th>47</th>\n      <td>11121365</td>\n      <td>ALT</td>\n      <td>15.0</td>\n      <td>M</td>\n      <td>17</td>\n      <td>6209</td>\n    </tr>\n    <tr>\n      <th>48</th>\n      <td>11121365</td>\n      <td>ALP</td>\n      <td>189.0</td>\n      <td>M</td>\n      <td>17</td>\n      <td>6209</td>\n    </tr>\n    <tr>\n      <th>49</th>\n      <td>11121365</td>\n      <td>GGT</td>\n      <td>15.0</td>\n      <td>M</td>\n      <td>17</td>\n      <td>6209</td>\n    </tr>\n  </tbody>\n</table>\n</div>"
     },
     "execution_count": 86,
     "metadata": {},
     "output_type": "execute_result"
    }
   ],
   "source": [
    "menores.head()"
   ],
   "metadata": {
    "collapsed": false,
    "pycharm": {
     "name": "#%%\n"
    }
   }
  },
  {
   "cell_type": "markdown",
   "source": [
    "# Quitar menores equivale a 260 pruebas de 52 personas."
   ],
   "metadata": {
    "collapsed": false
   }
  },
  {
   "cell_type": "code",
   "execution_count": 87,
   "outputs": [
    {
     "name": "stdout",
     "output_type": "stream",
     "text": [
      "<class 'pandas.core.frame.DataFrame'>\n",
      "Int64Index: 1630 entries, 0 to 2141\n",
      "Data columns (total 5 columns):\n",
      " #   Column     Non-Null Count  Dtype  \n",
      "---  ------     --------------  -----  \n",
      " 0   Orden      1630 non-null   int64  \n",
      " 1   Prueba     1630 non-null   object \n",
      " 2   Resultado  1630 non-null   float64\n",
      " 3   Sexo       1630 non-null   object \n",
      " 4   Edad       1630 non-null   int64  \n",
      "dtypes: float64(1), int64(2), object(2)\n",
      "memory usage: 76.4+ KB\n"
     ]
    }
   ],
   "source": [
    "nov5 = mulls[mulls['Edad'] > 17]\n",
    "nov5 = nov5.drop(columns='Edad en Dias')\n",
    "nov5.info()"
   ],
   "metadata": {
    "collapsed": false,
    "pycharm": {
     "name": "#%%\n"
    }
   }
  },
  {
   "cell_type": "markdown",
   "source": [
    "# Quedan 1630 pruebas para 325 personas"
   ],
   "metadata": {
    "collapsed": false
   }
  },
  {
   "cell_type": "code",
   "execution_count": 88,
   "outputs": [
    {
     "name": "stdout",
     "output_type": "stream",
     "text": [
      "[[10921133 'BILT' 0.87 'F' 25]\n",
      " [10921133 'AST' 45.0 'F' 25]\n",
      " [10921133 'ALT' 106.0 'F' 25]\n",
      " ...\n",
      " [311021048 'ALT' 27.0 'F' 54]\n",
      " [311021048 'ALP' 141.0 'F' 54]\n",
      " [311021048 'GGT' 122.0 'F' 54]]\n"
     ]
    }
   ],
   "source": [
    "novnp = nov5.to_numpy()\n",
    "print(novnp)"
   ],
   "metadata": {
    "collapsed": false,
    "pycharm": {
     "name": "#%%\n"
    }
   }
  },
  {
   "cell_type": "code",
   "execution_count": 89,
   "outputs": [
    {
     "data": {
      "text/plain": "(1630, 5)"
     },
     "execution_count": 89,
     "metadata": {},
     "output_type": "execute_result"
    }
   ],
   "source": [
    "novnp.shape"
   ],
   "metadata": {
    "collapsed": false,
    "pycharm": {
     "name": "#%%\n"
    }
   }
  },
  {
   "cell_type": "code",
   "execution_count": 90,
   "outputs": [
    {
     "data": {
      "text/plain": "[10921133,\n 10921446,\n 11021176,\n 11021216,\n 11021265,\n 11021333,\n 11021351,\n 11121001,\n 11121244,\n 11121387,\n 11221170,\n 11221300,\n 20921071,\n 20921184,\n 20921285,\n 20921339,\n 20921367,\n 21121092,\n 21121211,\n 21121488,\n 21221017,\n 21221026,\n 21221237,\n 21221327,\n 21221330,\n 21221337,\n 21221362,\n 21221492,\n 30821029,\n 30821172,\n 30821387,\n 30821434,\n 30821505,\n 30921016,\n 30921180,\n 30921188,\n 30921361,\n 30921363,\n 31021065,\n 31121017,\n 31121043,\n 31121074,\n 31221097,\n 31221329,\n 31221350,\n 31221429,\n 40821066,\n 41021024,\n 41021152,\n 41021347,\n 41021413,\n 41021446,\n 41021617,\n 41121102,\n 41121166,\n 41121313,\n 41121371,\n 50821066,\n 50821141,\n 50821294,\n 50821316,\n 50821366,\n 51021049,\n 51021281,\n 51021494,\n 51121104,\n 51121118,\n 51121168,\n 51121184,\n 51121193,\n 51221015,\n 60821312,\n 60921013,\n 60921352,\n 61021234,\n 61021242,\n 61021308,\n 61021354,\n 61121029,\n 70921217,\n 70921284,\n 71021042,\n 71021110,\n 71021121,\n 71021218,\n 81021041,\n 81021261,\n 81021503,\n 81021551,\n 81121142,\n 81121147,\n 81121309,\n 81121337,\n 81121340,\n 81121353,\n 81121405,\n 90821484,\n 90921207,\n 90921256,\n 90921366,\n 100821088,\n 100821152,\n 100821163,\n 100821267,\n 100821370,\n 100921061,\n 100921176,\n 100921180,\n 101121060,\n 101121213,\n 101221287,\n 110122034,\n 110122331,\n 110122334,\n 110821196,\n 110821261,\n 110821345,\n 110921099,\n 111021176,\n 111021234,\n 111021368,\n 111121322,\n 111121390,\n 111121519,\n 111221076,\n 120122074,\n 120122384,\n 120821064,\n 120821160,\n 120821223,\n 121021232,\n 121021285,\n 121021458,\n 121121074,\n 121121306,\n 121121322,\n 121121471,\n 130122030,\n 130122317,\n 130122401,\n 130821007,\n 130821261,\n 130821274,\n 131021189,\n 131021279,\n 131021535,\n 131221103,\n 140122111,\n 140122243,\n 140921338,\n 141021077,\n 141021193,\n 141021242,\n 141021323,\n 141221042,\n 150921007,\n 151021260,\n 151121157,\n 151121158,\n 151121435,\n 151221521,\n 160821140,\n 160821186,\n 160921018,\n 160921107,\n 160921187,\n 160921302,\n 161121152,\n 161121206,\n 161121287,\n 161121356,\n 161121394,\n 161121452,\n 170122200,\n 170122521,\n 170821104,\n 170821212,\n 170821217,\n 170821284,\n 170821297,\n 171121027,\n 171121031,\n 171121032,\n 171121209,\n 171121222,\n 180122088,\n 180122107,\n 180122139,\n 180122157,\n 180122343,\n 180122346,\n 180122372,\n 180821322,\n 181021184,\n 181021310,\n 181021384,\n 181021422,\n 181121512,\n 190122118,\n 190122192,\n 190122201,\n 190122208,\n 190122250,\n 190821053,\n 190821336,\n 191021152,\n 191021317,\n 191121265,\n 191121400,\n 200821117,\n 200821257,\n 200821260,\n 200821261,\n 200821287,\n 200821292,\n 200821323,\n 200821350,\n 200821390,\n 200921007,\n 200921368,\n 201021282,\n 201021285,\n 201021355,\n 201021426,\n 210921024,\n 210921034,\n 210921057,\n 210921121,\n 210921130,\n 210921185,\n 210921294,\n 211021209,\n 211021396,\n 211021460,\n 220921079,\n 220921211,\n 220921372,\n 221021178,\n 221021350,\n 221021407,\n 230821178,\n 230821390,\n 230921089,\n 230921220,\n 230921355,\n 230921519,\n 231121233,\n 231121237,\n 231121257,\n 231121268,\n 231121271,\n 240821100,\n 240821122,\n 240821168,\n 240821274,\n 240821339,\n 240921005,\n 240921015,\n 240921294,\n 240921406,\n 240921422,\n 241121171,\n 241121253,\n 241121266,\n 241121326,\n 241221056,\n 241221110,\n 241221235,\n 250821081,\n 250821082,\n 250821138,\n 251021015,\n 251021313,\n 251021357,\n 251021378,\n 251121222,\n 251121459,\n 260821083,\n 260821164,\n 260821379,\n 261021110,\n 261021223,\n 261021419,\n 261121203,\n 261121242,\n 261121248,\n 261121368,\n 261121393,\n 261121459,\n 261121465,\n 261221006,\n 270821137,\n 270821196,\n 270821255,\n 270821456,\n 270921116,\n 271021234,\n 271021494,\n 271221116,\n 271221292,\n 271221317,\n 271221363,\n 280921193,\n 281021528,\n 281121006,\n 281221325,\n 290821001,\n 290921169,\n 290921402,\n 291021082,\n 291021145,\n 291021162,\n 291021196,\n 291021372,\n 300821211,\n 300821226,\n 300821494,\n 300921046,\n 300921169,\n 300921482,\n 301121072,\n 301121381,\n 301121422,\n 310821298,\n 310821410,\n 311021048]"
     },
     "execution_count": 90,
     "metadata": {},
     "output_type": "execute_result"
    }
   ],
   "source": [
    "temp_ced = []\n",
    "temp_BLT = []\n",
    "temp_AST = []\n",
    "temp_ALT = []\n",
    "temp_ALP = []\n",
    "temp_GGT = []\n",
    "temp_age = []\n",
    "temp_sex = []\n",
    "count = 0\n",
    "for row in novnp:\n",
    "    if count == 5:\n",
    "        count = 0\n",
    "    if row[0] not in temp_ced:\n",
    "        temp_ced.append(row[0])\n",
    "    if count == 0:\n",
    "        temp_sex.append(row[3])\n",
    "        temp_age.append(row[4])\n",
    "    match row[1]:\n",
    "        case \"BILT\":\n",
    "            temp_BLT.append(row[2])\n",
    "        case \"AST\":\n",
    "            temp_AST.append(row[2])\n",
    "        case \"ALT\":\n",
    "            temp_ALT.append(row[2])\n",
    "        case \"ALP\":\n",
    "            temp_ALP.append(row[2])\n",
    "        case _:\n",
    "            temp_GGT.append(row[2])\n",
    "    count += 1\n",
    "temp_ced"
   ],
   "metadata": {
    "collapsed": false,
    "pycharm": {
     "name": "#%%\n"
    }
   }
  },
  {
   "cell_type": "code",
   "execution_count": 91,
   "outputs": [
    {
     "data": {
      "text/plain": "     Age Sex    ALP    ALT   AST  BILT    GGT     Cedula\n0     25   F  121.0  106.0  45.0  0.87   31.0   10921133\n1     33   F  198.0  315.0  65.0  0.90  706.0   10921446\n2     41   M   38.0   33.0  21.0  0.80   63.0   11021176\n3     47   F   81.0   19.0  15.0  0.30   29.0   11021216\n4     75   M  135.0   41.0  33.0  1.01   29.0   11021265\n..   ...  ..    ...    ...   ...   ...    ...        ...\n321   44   F   80.0   24.0  23.0  0.99   17.0  301121381\n322   29   F  188.0   16.0  17.0  0.58   25.0  301121422\n323   56   F  136.0   20.0  22.0  0.41   46.0  310821298\n324   73   F   93.0   11.0  14.0  0.41   16.0  310821410\n325   54   F  141.0   27.0  17.0  0.48  122.0  311021048\n\n[326 rows x 8 columns]",
      "text/html": "<div>\n<style scoped>\n    .dataframe tbody tr th:only-of-type {\n        vertical-align: middle;\n    }\n\n    .dataframe tbody tr th {\n        vertical-align: top;\n    }\n\n    .dataframe thead th {\n        text-align: right;\n    }\n</style>\n<table border=\"1\" class=\"dataframe\">\n  <thead>\n    <tr style=\"text-align: right;\">\n      <th></th>\n      <th>Age</th>\n      <th>Sex</th>\n      <th>ALP</th>\n      <th>ALT</th>\n      <th>AST</th>\n      <th>BILT</th>\n      <th>GGT</th>\n      <th>Cedula</th>\n    </tr>\n  </thead>\n  <tbody>\n    <tr>\n      <th>0</th>\n      <td>25</td>\n      <td>F</td>\n      <td>121.0</td>\n      <td>106.0</td>\n      <td>45.0</td>\n      <td>0.87</td>\n      <td>31.0</td>\n      <td>10921133</td>\n    </tr>\n    <tr>\n      <th>1</th>\n      <td>33</td>\n      <td>F</td>\n      <td>198.0</td>\n      <td>315.0</td>\n      <td>65.0</td>\n      <td>0.90</td>\n      <td>706.0</td>\n      <td>10921446</td>\n    </tr>\n    <tr>\n      <th>2</th>\n      <td>41</td>\n      <td>M</td>\n      <td>38.0</td>\n      <td>33.0</td>\n      <td>21.0</td>\n      <td>0.80</td>\n      <td>63.0</td>\n      <td>11021176</td>\n    </tr>\n    <tr>\n      <th>3</th>\n      <td>47</td>\n      <td>F</td>\n      <td>81.0</td>\n      <td>19.0</td>\n      <td>15.0</td>\n      <td>0.30</td>\n      <td>29.0</td>\n      <td>11021216</td>\n    </tr>\n    <tr>\n      <th>4</th>\n      <td>75</td>\n      <td>M</td>\n      <td>135.0</td>\n      <td>41.0</td>\n      <td>33.0</td>\n      <td>1.01</td>\n      <td>29.0</td>\n      <td>11021265</td>\n    </tr>\n    <tr>\n      <th>...</th>\n      <td>...</td>\n      <td>...</td>\n      <td>...</td>\n      <td>...</td>\n      <td>...</td>\n      <td>...</td>\n      <td>...</td>\n      <td>...</td>\n    </tr>\n    <tr>\n      <th>321</th>\n      <td>44</td>\n      <td>F</td>\n      <td>80.0</td>\n      <td>24.0</td>\n      <td>23.0</td>\n      <td>0.99</td>\n      <td>17.0</td>\n      <td>301121381</td>\n    </tr>\n    <tr>\n      <th>322</th>\n      <td>29</td>\n      <td>F</td>\n      <td>188.0</td>\n      <td>16.0</td>\n      <td>17.0</td>\n      <td>0.58</td>\n      <td>25.0</td>\n      <td>301121422</td>\n    </tr>\n    <tr>\n      <th>323</th>\n      <td>56</td>\n      <td>F</td>\n      <td>136.0</td>\n      <td>20.0</td>\n      <td>22.0</td>\n      <td>0.41</td>\n      <td>46.0</td>\n      <td>310821298</td>\n    </tr>\n    <tr>\n      <th>324</th>\n      <td>73</td>\n      <td>F</td>\n      <td>93.0</td>\n      <td>11.0</td>\n      <td>14.0</td>\n      <td>0.41</td>\n      <td>16.0</td>\n      <td>310821410</td>\n    </tr>\n    <tr>\n      <th>325</th>\n      <td>54</td>\n      <td>F</td>\n      <td>141.0</td>\n      <td>27.0</td>\n      <td>17.0</td>\n      <td>0.48</td>\n      <td>122.0</td>\n      <td>311021048</td>\n    </tr>\n  </tbody>\n</table>\n<p>326 rows × 8 columns</p>\n</div>"
     },
     "execution_count": 91,
     "metadata": {},
     "output_type": "execute_result"
    }
   ],
   "source": [
    "clean_dict = {\n",
    "    'Age':temp_age,\n",
    "    'Sex':temp_sex,\n",
    "    'ALP':temp_ALP,\n",
    "    \"ALT\":temp_ALT,\n",
    "    'AST':temp_AST,\n",
    "    'BILT':temp_BLT,\n",
    "    'GGT':temp_GGT,\n",
    "    'Cedula':temp_ced,\n",
    "\n",
    "}\n",
    "df = pd.DataFrame(clean_dict)\n",
    "df"
   ],
   "metadata": {
    "collapsed": false,
    "pycharm": {
     "name": "#%%\n"
    }
   }
  },
  {
   "cell_type": "code",
   "execution_count": 92,
   "outputs": [
    {
     "name": "stdout",
     "output_type": "stream",
     "text": [
      "<class 'pandas.core.frame.DataFrame'>\n",
      "RangeIndex: 326 entries, 0 to 325\n",
      "Data columns (total 8 columns):\n",
      " #   Column  Non-Null Count  Dtype  \n",
      "---  ------  --------------  -----  \n",
      " 0   Age     326 non-null    int64  \n",
      " 1   Sex     326 non-null    object \n",
      " 2   ALP     326 non-null    float64\n",
      " 3   ALT     326 non-null    float64\n",
      " 4   AST     326 non-null    float64\n",
      " 5   BILT    326 non-null    float64\n",
      " 6   GGT     326 non-null    float64\n",
      " 7   Cedula  326 non-null    int64  \n",
      "dtypes: float64(5), int64(2), object(1)\n",
      "memory usage: 20.5+ KB\n"
     ]
    }
   ],
   "source": [
    "df.info()"
   ],
   "metadata": {
    "collapsed": false,
    "pycharm": {
     "name": "#%%\n"
    }
   }
  },
  {
   "cell_type": "code",
   "execution_count": 93,
   "outputs": [
    {
     "data": {
      "text/plain": "        count          mean           std          min           25%  \\\nAge     326.0  5.027914e+01  1.753779e+01        18.00  3.600000e+01   \nALP     326.0  1.042025e+02  6.108629e+01        38.00  7.600000e+01   \nALT     326.0  4.434969e+01  1.064098e+02         8.00  1.625000e+01   \nAST     326.0  5.233742e+01  3.325936e+02        11.00  1.900000e+01   \nBILT    326.0  7.827607e-01  7.502293e-01         0.27  4.725000e-01   \nGGT     326.0  6.546933e+01  1.145554e+02         8.00  2.100000e+01   \nCedula  326.0  1.512732e+08  8.842614e+07  10921133.00  7.102106e+07   \n\n                50%           75%           max  \nAge            52.0  6.300000e+01  9.300000e+01  \nALP            91.0  1.140000e+02  7.330000e+02  \nALT            24.0  3.600000e+01  1.044000e+03  \nAST            23.0  3.000000e+01  5.972000e+03  \nBILT            0.6  8.600000e-01  1.084000e+01  \nGGT            31.0  6.375000e+01  9.620000e+02  \nCedula  160871102.0  2.309213e+08  3.110210e+08  ",
      "text/html": "<div>\n<style scoped>\n    .dataframe tbody tr th:only-of-type {\n        vertical-align: middle;\n    }\n\n    .dataframe tbody tr th {\n        vertical-align: top;\n    }\n\n    .dataframe thead th {\n        text-align: right;\n    }\n</style>\n<table border=\"1\" class=\"dataframe\">\n  <thead>\n    <tr style=\"text-align: right;\">\n      <th></th>\n      <th>count</th>\n      <th>mean</th>\n      <th>std</th>\n      <th>min</th>\n      <th>25%</th>\n      <th>50%</th>\n      <th>75%</th>\n      <th>max</th>\n    </tr>\n  </thead>\n  <tbody>\n    <tr>\n      <th>Age</th>\n      <td>326.0</td>\n      <td>5.027914e+01</td>\n      <td>1.753779e+01</td>\n      <td>18.00</td>\n      <td>3.600000e+01</td>\n      <td>52.0</td>\n      <td>6.300000e+01</td>\n      <td>9.300000e+01</td>\n    </tr>\n    <tr>\n      <th>ALP</th>\n      <td>326.0</td>\n      <td>1.042025e+02</td>\n      <td>6.108629e+01</td>\n      <td>38.00</td>\n      <td>7.600000e+01</td>\n      <td>91.0</td>\n      <td>1.140000e+02</td>\n      <td>7.330000e+02</td>\n    </tr>\n    <tr>\n      <th>ALT</th>\n      <td>326.0</td>\n      <td>4.434969e+01</td>\n      <td>1.064098e+02</td>\n      <td>8.00</td>\n      <td>1.625000e+01</td>\n      <td>24.0</td>\n      <td>3.600000e+01</td>\n      <td>1.044000e+03</td>\n    </tr>\n    <tr>\n      <th>AST</th>\n      <td>326.0</td>\n      <td>5.233742e+01</td>\n      <td>3.325936e+02</td>\n      <td>11.00</td>\n      <td>1.900000e+01</td>\n      <td>23.0</td>\n      <td>3.000000e+01</td>\n      <td>5.972000e+03</td>\n    </tr>\n    <tr>\n      <th>BILT</th>\n      <td>326.0</td>\n      <td>7.827607e-01</td>\n      <td>7.502293e-01</td>\n      <td>0.27</td>\n      <td>4.725000e-01</td>\n      <td>0.6</td>\n      <td>8.600000e-01</td>\n      <td>1.084000e+01</td>\n    </tr>\n    <tr>\n      <th>GGT</th>\n      <td>326.0</td>\n      <td>6.546933e+01</td>\n      <td>1.145554e+02</td>\n      <td>8.00</td>\n      <td>2.100000e+01</td>\n      <td>31.0</td>\n      <td>6.375000e+01</td>\n      <td>9.620000e+02</td>\n    </tr>\n    <tr>\n      <th>Cedula</th>\n      <td>326.0</td>\n      <td>1.512732e+08</td>\n      <td>8.842614e+07</td>\n      <td>10921133.00</td>\n      <td>7.102106e+07</td>\n      <td>160871102.0</td>\n      <td>2.309213e+08</td>\n      <td>3.110210e+08</td>\n    </tr>\n  </tbody>\n</table>\n</div>"
     },
     "execution_count": 93,
     "metadata": {},
     "output_type": "execute_result"
    }
   ],
   "source": [
    "df.describe().T"
   ],
   "metadata": {
    "collapsed": false,
    "pycharm": {
     "name": "#%%\n"
    }
   }
  },
  {
   "cell_type": "code",
   "execution_count": 94,
   "outputs": [
    {
     "data": {
      "text/plain": "<AxesSubplot:xlabel='ALP', ylabel='Density'>"
     },
     "execution_count": 94,
     "metadata": {},
     "output_type": "execute_result"
    },
    {
     "data": {
      "text/plain": "<Figure size 720x576 with 1 Axes>",
      "image/png": "[encoded data removed]"
     },
     "metadata": {},
     "output_type": "display_data"
    }
   ],
   "source": [
    "sns.set_style('dark')\n",
    "plt.figure(figsize=(10, 8))\n",
    "sns.distplot(a= df['ALP'], kde=True)"
   ],
   "metadata": {
    "collapsed": false,
    "pycharm": {
     "name": "#%%\n"
    }
   }
  },
  {
   "cell_type": "code",
   "execution_count": 95,
   "outputs": [
    {
     "data": {
      "text/plain": "<AxesSubplot:xlabel='AST', ylabel='Density'>"
     },
     "execution_count": 95,
     "metadata": {},
     "output_type": "execute_result"
    },
    {
     "data": {
      "text/plain": "<Figure size 720x576 with 1 Axes>",
      "image/png": "[encoded data removed]"
     },
     "metadata": {},
     "output_type": "display_data"
    }
   ],
   "source": [
    "sns.set_style('white')\n",
    "plt.figure(figsize=(10, 8))\n",
    "sns.distplot(a= df['AST'], kde=True)"
   ],
   "metadata": {
    "collapsed": false,
    "pycharm": {
     "name": "#%%\n"
    }
   }
  },
  {
   "cell_type": "code",
   "execution_count": 96,
   "outputs": [
    {
     "data": {
      "text/plain": "<AxesSubplot:xlabel='ALT', ylabel='Density'>"
     },
     "execution_count": 96,
     "metadata": {},
     "output_type": "execute_result"
    },
    {
     "data": {
      "text/plain": "<Figure size 720x576 with 1 Axes>",
      "image/png": "[encoded data removed]"
     },
     "metadata": {},
     "output_type": "display_data"
    }
   ],
   "source": [
    "sns.set_style('ticks')\n",
    "plt.figure(figsize=(10, 8))\n",
    "sns.distplot(a= df['ALT'], kde=True)"
   ],
   "metadata": {
    "collapsed": false,
    "pycharm": {
     "name": "#%%\n"
    }
   }
  },
  {
   "cell_type": "code",
   "execution_count": 97,
   "outputs": [
    {
     "data": {
      "text/plain": "<AxesSubplot:xlabel='BILT', ylabel='Density'>"
     },
     "execution_count": 97,
     "metadata": {},
     "output_type": "execute_result"
    },
    {
     "data": {
      "text/plain": "<Figure size 720x576 with 1 Axes>",
      "image/png": "[encoded data removed]"
     },
     "metadata": {},
     "output_type": "display_data"
    }
   ],
   "source": [
    "sns.set_style('darkgrid')\n",
    "plt.figure(figsize=(10, 8))\n",
    "sns.distplot(a= df['BILT'], kde=True)"
   ],
   "metadata": {
    "collapsed": false,
    "pycharm": {
     "name": "#%%\n"
    }
   }
  },
  {
   "cell_type": "code",
   "execution_count": 98,
   "outputs": [
    {
     "data": {
      "text/plain": "<AxesSubplot:xlabel='GGT', ylabel='Density'>"
     },
     "execution_count": 98,
     "metadata": {},
     "output_type": "execute_result"
    },
    {
     "data": {
      "text/plain": "<Figure size 720x576 with 1 Axes>",
      "image/png": "[encoded data removed]"
     },
     "metadata": {},
     "output_type": "display_data"
    }
   ],
   "source": [
    "sns.set_style('dark')\n",
    "plt.figure(figsize=(10, 8))\n",
    "sns.distplot(a= df['GGT'], kde=True)"
   ],
   "metadata": {
    "collapsed": false,
    "pycharm": {
     "name": "#%%\n"
    }
   }
  },
  {
   "cell_type": "code",
   "execution_count": 99,
   "outputs": [],
   "source": [
    "#df.drop(columns=\"Cedula\")\n",
    "df.to_csv(\"oct_clean.csv\", index=False)"
   ],
   "metadata": {
    "collapsed": false,
    "pycharm": {
     "name": "#%%\n"
    }
   }
  }
 ],
 "metadata": {
  "kernelspec": {
   "display_name": "Python 3",
   "language": "python",
   "name": "python3"
  },
  "language_info": {
   "codemirror_mode": {
    "name": "ipython",
    "version": 2
   },
   "file_extension": ".py",
   "mimetype": "text/x-python",
   "name": "python",
   "nbconvert_exporter": "python",
   "pygments_lexer": "ipython2",
   "version": "2.7.6"
  }
 },
 "nbformat": 4,
 "nbformat_minor": 0
}