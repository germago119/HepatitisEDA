{
 "cells": [
  {
   "cell_type": "code",
   "execution_count": 32,
   "outputs": [],
   "source": [
    "import pandas as pd\n",
    "import numpy as np\n",
    "import matplotlib.pyplot as plt\n",
    "import seaborn  as sns\n",
    "import lux\n",
    "%matplotlib inline\n",
    "\n",
    "import warnings\n",
    "\n",
    "\n",
    "warnings.filterwarnings('ignore')"
   ],
   "metadata": {
    "collapsed": false,
    "pycharm": {
     "name": "#%%\n"
    }
   }
  },
  {
   "cell_type": "code",
   "execution_count": 33,
   "outputs": [
    {
     "data": {
      "text/plain": "   Age Sex    ALP    ALT   AST  BILT    GGT    Cedula\n0   25   F  121.0  106.0  45.0  0.87   31.0  10921133\n1   33   F  198.0  315.0  65.0  0.90  706.0  10921446\n2   41   M   38.0   33.0  21.0  0.80   63.0  11021176\n3   47   F   81.0   19.0  15.0  0.30   29.0  11021216\n4   75   M  135.0   41.0  33.0  1.01   29.0  11021265",
      "text/html": "<div>\n<style scoped>\n    .dataframe tbody tr th:only-of-type {\n        vertical-align: middle;\n    }\n\n    .dataframe tbody tr th {\n        vertical-align: top;\n    }\n\n    .dataframe thead th {\n        text-align: right;\n    }\n</style>\n<table border=\"1\" class=\"dataframe\">\n  <thead>\n    <tr style=\"text-align: right;\">\n      <th></th>\n      <th>Age</th>\n      <th>Sex</th>\n      <th>ALP</th>\n      <th>ALT</th>\n      <th>AST</th>\n      <th>BILT</th>\n      <th>GGT</th>\n      <th>Cedula</th>\n    </tr>\n  </thead>\n  <tbody>\n    <tr>\n      <th>0</th>\n      <td>25</td>\n      <td>F</td>\n      <td>121.0</td>\n      <td>106.0</td>\n      <td>45.0</td>\n      <td>0.87</td>\n      <td>31.0</td>\n      <td>10921133</td>\n    </tr>\n    <tr>\n      <th>1</th>\n      <td>33</td>\n      <td>F</td>\n      <td>198.0</td>\n      <td>315.0</td>\n      <td>65.0</td>\n      <td>0.90</td>\n      <td>706.0</td>\n      <td>10921446</td>\n    </tr>\n    <tr>\n      <th>2</th>\n      <td>41</td>\n      <td>M</td>\n      <td>38.0</td>\n      <td>33.0</td>\n      <td>21.0</td>\n      <td>0.80</td>\n      <td>63.0</td>\n      <td>11021176</td>\n    </tr>\n    <tr>\n      <th>3</th>\n      <td>47</td>\n      <td>F</td>\n      <td>81.0</td>\n      <td>19.0</td>\n      <td>15.0</td>\n      <td>0.30</td>\n      <td>29.0</td>\n      <td>11021216</td>\n    </tr>\n    <tr>\n      <th>4</th>\n      <td>75</td>\n      <td>M</td>\n      <td>135.0</td>\n      <td>41.0</td>\n      <td>33.0</td>\n      <td>1.01</td>\n      <td>29.0</td>\n      <td>11021265</td>\n    </tr>\n  </tbody>\n</table>\n</div>"
     },
     "execution_count": 33,
     "metadata": {},
     "output_type": "execute_result"
    }
   ],
   "source": [
    "hepa_oct = pd.read_csv(\"oct_clean.csv\")\n",
    "hepa_oct.head()"
   ],
   "metadata": {
    "collapsed": false,
    "pycharm": {
     "name": "#%%\n"
    }
   }
  },
  {
   "cell_type": "code",
   "execution_count": 34,
   "outputs": [
    {
     "name": "stdout",
     "output_type": "stream",
     "text": [
      "<class 'pandas.core.frame.DataFrame'>\n",
      "RangeIndex: 326 entries, 0 to 325\n",
      "Data columns (total 8 columns):\n",
      " #   Column  Non-Null Count  Dtype  \n",
      "---  ------  --------------  -----  \n",
      " 0   Age     326 non-null    int64  \n",
      " 1   Sex     326 non-null    object \n",
      " 2   ALP     326 non-null    float64\n",
      " 3   ALT     326 non-null    float64\n",
      " 4   AST     326 non-null    float64\n",
      " 5   BILT    326 non-null    float64\n",
      " 6   GGT     326 non-null    float64\n",
      " 7   Cedula  326 non-null    int64  \n",
      "dtypes: float64(5), int64(2), object(1)\n",
      "memory usage: 20.5+ KB\n"
     ]
    }
   ],
   "source": [
    "hepa_oct.info()"
   ],
   "metadata": {
    "collapsed": false,
    "pycharm": {
     "name": "#%%\n"
    }
   }
  },
  {
   "cell_type": "code",
   "execution_count": 35,
   "outputs": [
    {
     "data": {
      "text/plain": "   Age Sex    ALP   ALT   AST  BILT   GGT    Cedula\n0   63   F  104.0  25.0  21.0  0.44  40.0  11121001\n1   22   F   94.0   9.0  18.0  0.38  19.0  11121244\n2   61   F   91.0  22.0  19.0  0.80  20.0  11121387\n3   62   F   68.0  11.0  15.0  0.56  17.0  11221170\n4   29   F   76.0  15.0  20.0  0.58  16.0  11221300",
      "text/html": "<div>\n<style scoped>\n    .dataframe tbody tr th:only-of-type {\n        vertical-align: middle;\n    }\n\n    .dataframe tbody tr th {\n        vertical-align: top;\n    }\n\n    .dataframe thead th {\n        text-align: right;\n    }\n</style>\n<table border=\"1\" class=\"dataframe\">\n  <thead>\n    <tr style=\"text-align: right;\">\n      <th></th>\n      <th>Age</th>\n      <th>Sex</th>\n      <th>ALP</th>\n      <th>ALT</th>\n      <th>AST</th>\n      <th>BILT</th>\n      <th>GGT</th>\n      <th>Cedula</th>\n    </tr>\n  </thead>\n  <tbody>\n    <tr>\n      <th>0</th>\n      <td>63</td>\n      <td>F</td>\n      <td>104.0</td>\n      <td>25.0</td>\n      <td>21.0</td>\n      <td>0.44</td>\n      <td>40.0</td>\n      <td>11121001</td>\n    </tr>\n    <tr>\n      <th>1</th>\n      <td>22</td>\n      <td>F</td>\n      <td>94.0</td>\n      <td>9.0</td>\n      <td>18.0</td>\n      <td>0.38</td>\n      <td>19.0</td>\n      <td>11121244</td>\n    </tr>\n    <tr>\n      <th>2</th>\n      <td>61</td>\n      <td>F</td>\n      <td>91.0</td>\n      <td>22.0</td>\n      <td>19.0</td>\n      <td>0.80</td>\n      <td>20.0</td>\n      <td>11121387</td>\n    </tr>\n    <tr>\n      <th>3</th>\n      <td>62</td>\n      <td>F</td>\n      <td>68.0</td>\n      <td>11.0</td>\n      <td>15.0</td>\n      <td>0.56</td>\n      <td>17.0</td>\n      <td>11221170</td>\n    </tr>\n    <tr>\n      <th>4</th>\n      <td>29</td>\n      <td>F</td>\n      <td>76.0</td>\n      <td>15.0</td>\n      <td>20.0</td>\n      <td>0.58</td>\n      <td>16.0</td>\n      <td>11221300</td>\n    </tr>\n  </tbody>\n</table>\n</div>"
     },
     "execution_count": 35,
     "metadata": {},
     "output_type": "execute_result"
    }
   ],
   "source": [
    "hepa_nov = pd.read_csv(\"nov_clean.csv\")\n",
    "hepa_nov.head()"
   ],
   "metadata": {
    "collapsed": false,
    "pycharm": {
     "name": "#%%\n"
    }
   }
  },
  {
   "cell_type": "code",
   "execution_count": 36,
   "outputs": [
    {
     "name": "stdout",
     "output_type": "stream",
     "text": [
      "<class 'pandas.core.frame.DataFrame'>\n",
      "RangeIndex: 115 entries, 0 to 114\n",
      "Data columns (total 8 columns):\n",
      " #   Column  Non-Null Count  Dtype  \n",
      "---  ------  --------------  -----  \n",
      " 0   Age     115 non-null    int64  \n",
      " 1   Sex     115 non-null    object \n",
      " 2   ALP     115 non-null    float64\n",
      " 3   ALT     115 non-null    float64\n",
      " 4   AST     115 non-null    float64\n",
      " 5   BILT    115 non-null    float64\n",
      " 6   GGT     115 non-null    float64\n",
      " 7   Cedula  115 non-null    int64  \n",
      "dtypes: float64(5), int64(2), object(1)\n",
      "memory usage: 7.3+ KB\n"
     ]
    }
   ],
   "source": [
    "hepa_nov.info()"
   ],
   "metadata": {
    "collapsed": false,
    "pycharm": {
     "name": "#%%\n"
    }
   }
  },
  {
   "cell_type": "code",
   "execution_count": 37,
   "outputs": [
    {
     "data": {
      "text/plain": "False    211\nTrue     115\nName: Cedula, dtype: int64"
     },
     "execution_count": 37,
     "metadata": {},
     "output_type": "execute_result"
    }
   ],
   "source": [
    "hepa_oct['Cedula'].isin(hepa_nov['Cedula']).value_counts()"
   ],
   "metadata": {
    "collapsed": false,
    "pycharm": {
     "name": "#%%\n"
    }
   }
  },
  {
   "cell_type": "code",
   "execution_count": 38,
   "outputs": [
    {
     "data": {
      "text/plain": "{11121001,\n 11121244,\n 11121387,\n 11221170,\n 11221300,\n 21121092,\n 21121211,\n 21121488,\n 21221017,\n 21221026,\n 21221237,\n 21221327,\n 21221330,\n 21221337,\n 21221362,\n 21221492,\n 31121017,\n 31121043,\n 31121074,\n 31221097,\n 31221329,\n 31221350,\n 31221429,\n 41121102,\n 41121166,\n 41121313,\n 41121371,\n 51121104,\n 51121118,\n 51121168,\n 51121184,\n 51121193,\n 51221015,\n 61121029,\n 81121142,\n 81121147,\n 81121309,\n 81121337,\n 81121340,\n 81121353,\n 81121405,\n 101121060,\n 101121213,\n 101221287,\n 110122034,\n 110122331,\n 110122334,\n 111121322,\n 111121390,\n 111121519,\n 111221076,\n 120122074,\n 120122384,\n 121121074,\n 121121306,\n 121121322,\n 121121471,\n 130122030,\n 130122317,\n 130122401,\n 131221103,\n 140122111,\n 140122243,\n 141221042,\n 151121157,\n 151121158,\n 151121435,\n 151221521,\n 161121152,\n 161121206,\n 161121287,\n 161121356,\n 161121394,\n 161121452,\n 170122200,\n 170122521,\n 171121027,\n 171121031,\n 171121032,\n 171121209,\n 171121222,\n 181121512,\n 191121265,\n 191121400,\n 231121233,\n 231121237,\n 231121257,\n 231121268,\n 231121271,\n 241121171,\n 241121253,\n 241121266,\n 241121326,\n 241221056,\n 241221110,\n 241221235,\n 251121222,\n 251121459,\n 261121203,\n 261121242,\n 261121248,\n 261121368,\n 261121393,\n 261121459,\n 261121465,\n 261221006,\n 271221116,\n 271221292,\n 271221317,\n 271221363,\n 281121006,\n 281221325,\n 301121072,\n 301121381,\n 301121422}"
     },
     "execution_count": 38,
     "metadata": {},
     "output_type": "execute_result"
    }
   ],
   "source": [
    "delete = set(hepa_oct['Cedula']).intersection(set(hepa_nov['Cedula']))\n",
    "delete"
   ],
   "metadata": {
    "collapsed": false,
    "pycharm": {
     "name": "#%%\n"
    }
   }
  },
  {
   "cell_type": "code",
   "execution_count": 39,
   "outputs": [
    {
     "data": {
      "text/plain": "115"
     },
     "execution_count": 39,
     "metadata": {},
     "output_type": "execute_result"
    }
   ],
   "source": [
    "len(delete)"
   ],
   "metadata": {
    "collapsed": false,
    "pycharm": {
     "name": "#%%\n"
    }
   }
  },
  {
   "cell_type": "markdown",
   "source": [
    "# Se tienen 115 datos duplicados"
   ],
   "metadata": {
    "collapsed": false
   }
  },
  {
   "cell_type": "code",
   "execution_count": 40,
   "outputs": [
    {
     "name": "stdout",
     "output_type": "stream",
     "text": [
      "<class 'pandas.core.frame.DataFrame'>\n",
      "RangeIndex: 441 entries, 0 to 440\n",
      "Data columns (total 8 columns):\n",
      " #   Column  Non-Null Count  Dtype  \n",
      "---  ------  --------------  -----  \n",
      " 0   Age     441 non-null    int64  \n",
      " 1   Sex     441 non-null    object \n",
      " 2   ALP     441 non-null    float64\n",
      " 3   ALT     441 non-null    float64\n",
      " 4   AST     441 non-null    float64\n",
      " 5   BILT    441 non-null    float64\n",
      " 6   GGT     441 non-null    float64\n",
      " 7   Cedula  441 non-null    int64  \n",
      "dtypes: float64(5), int64(2), object(1)\n",
      "memory usage: 27.7+ KB\n"
     ]
    }
   ],
   "source": [
    "hepa_sam = pd.read_csv(\"sam.csv\")\n",
    "hepa_sam.info()"
   ],
   "metadata": {
    "collapsed": false,
    "pycharm": {
     "name": "#%%\n"
    }
   }
  },
  {
   "cell_type": "code",
   "execution_count": 43,
   "outputs": [
    {
     "data": {
      "text/plain": "     Age Sex   ALP   ALT   AST  BILT   GGT    Cedula\n70    31   F  64.0  16.0  21.0  0.52  17.0  51221015\n358   31   F  64.0  16.0  21.0  0.52  17.0  51221015",
      "text/html": "<div>\n<style scoped>\n    .dataframe tbody tr th:only-of-type {\n        vertical-align: middle;\n    }\n\n    .dataframe tbody tr th {\n        vertical-align: top;\n    }\n\n    .dataframe thead th {\n        text-align: right;\n    }\n</style>\n<table border=\"1\" class=\"dataframe\">\n  <thead>\n    <tr style=\"text-align: right;\">\n      <th></th>\n      <th>Age</th>\n      <th>Sex</th>\n      <th>ALP</th>\n      <th>ALT</th>\n      <th>AST</th>\n      <th>BILT</th>\n      <th>GGT</th>\n      <th>Cedula</th>\n    </tr>\n  </thead>\n  <tbody>\n    <tr>\n      <th>70</th>\n      <td>31</td>\n      <td>F</td>\n      <td>64.0</td>\n      <td>16.0</td>\n      <td>21.0</td>\n      <td>0.52</td>\n      <td>17.0</td>\n      <td>51221015</td>\n    </tr>\n    <tr>\n      <th>358</th>\n      <td>31</td>\n      <td>F</td>\n      <td>64.0</td>\n      <td>16.0</td>\n      <td>21.0</td>\n      <td>0.52</td>\n      <td>17.0</td>\n      <td>51221015</td>\n    </tr>\n  </tbody>\n</table>\n</div>"
     },
     "execution_count": 43,
     "metadata": {},
     "output_type": "execute_result"
    }
   ],
   "source": [
    "hepa_sam.loc[hepa_sam['Cedula'] == 51221015]"
   ],
   "metadata": {
    "collapsed": false,
    "pycharm": {
     "name": "#%%\n"
    }
   }
  },
  {
   "cell_type": "code",
   "execution_count": 44,
   "outputs": [
    {
     "name": "stdout",
     "output_type": "stream",
     "text": [
      "<class 'pandas.core.frame.DataFrame'>\n",
      "Int64Index: 326 entries, 0 to 325\n",
      "Data columns (total 8 columns):\n",
      " #   Column  Non-Null Count  Dtype  \n",
      "---  ------  --------------  -----  \n",
      " 0   Age     326 non-null    int64  \n",
      " 1   Sex     326 non-null    object \n",
      " 2   ALP     326 non-null    float64\n",
      " 3   ALT     326 non-null    float64\n",
      " 4   AST     326 non-null    float64\n",
      " 5   BILT    326 non-null    float64\n",
      " 6   GGT     326 non-null    float64\n",
      " 7   Cedula  326 non-null    int64  \n",
      "dtypes: float64(5), int64(2), object(1)\n",
      "memory usage: 22.9+ KB\n"
     ]
    }
   ],
   "source": [
    "hepa_sam.drop_duplicates(inplace=True)\n",
    "hepa_sam.info()"
   ],
   "metadata": {
    "collapsed": false,
    "pycharm": {
     "name": "#%%\n"
    }
   }
  },
  {
   "cell_type": "code",
   "execution_count": 45,
   "outputs": [
    {
     "name": "stdout",
     "output_type": "stream",
     "text": [
      "<class 'pandas.core.frame.DataFrame'>\n",
      "Int64Index: 326 entries, 0 to 325\n",
      "Data columns (total 8 columns):\n",
      " #   Column  Non-Null Count  Dtype  \n",
      "---  ------  --------------  -----  \n",
      " 0   Age     326 non-null    int64  \n",
      " 1   Sex     326 non-null    object \n",
      " 2   ALP     326 non-null    float64\n",
      " 3   ALT     326 non-null    float64\n",
      " 4   AST     326 non-null    float64\n",
      " 5   BILT    326 non-null    float64\n",
      " 6   GGT     326 non-null    float64\n",
      " 7   Cedula  326 non-null    int64  \n",
      "dtypes: float64(5), int64(2), object(1)\n",
      "memory usage: 22.9+ KB\n"
     ]
    }
   ],
   "source": [
    "hepa_sam.drop_duplicates(subset=['Cedula'], keep='last')\n",
    "hepa_sam.info()"
   ],
   "metadata": {
    "collapsed": false,
    "pycharm": {
     "name": "#%%\n"
    }
   }
  },
  {
   "cell_type": "markdown",
   "source": [
    "# Se tienen 326 datos finales"
   ],
   "metadata": {
    "collapsed": false
   }
  },
  {
   "cell_type": "code",
   "execution_count": 46,
   "outputs": [],
   "source": [
    "#df.drop(columns=\"Cedula\")\n",
    "hepa_sam.to_csv(\"total_clean.csv\", index=False)"
   ],
   "metadata": {
    "collapsed": false,
    "pycharm": {
     "name": "#%%\n"
    }
   }
  }
 ],
 "metadata": {
  "kernelspec": {
   "display_name": "Python 3",
   "language": "python",
   "name": "python3"
  },
  "language_info": {
   "codemirror_mode": {
    "name": "ipython",
    "version": 2
   },
   "file_extension": ".py",
   "mimetype": "text/x-python",
   "name": "python",
   "nbconvert_exporter": "python",
   "pygments_lexer": "ipython2",
   "version": "2.7.6"
  }
 },
 "nbformat": 4,
 "nbformat_minor": 0
}