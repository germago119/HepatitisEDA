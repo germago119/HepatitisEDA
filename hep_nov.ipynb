{
 "cells": [
  {
   "cell_type": "code",
   "execution_count": 35,
   "outputs": [],
   "source": [
    "import pandas as pd\n",
    "import numpy as np\n",
    "import matplotlib.pyplot as plt\n",
    "import seaborn  as sns\n",
    "import lux\n",
    "%matplotlib inline\n",
    "\n",
    "import warnings\n",
    "\n",
    "\n",
    "warnings.filterwarnings('ignore')"
   ],
   "metadata": {
    "collapsed": false,
    "pycharm": {
     "name": "#%%\n"
    }
   }
  },
  {
   "cell_type": "code",
   "execution_count": 36,
   "outputs": [
    {
     "data": {
      "text/plain": "      Orden Prueba  Resultado Lab. Sexo  Edad\n0  11121001   BILT            0.44    F    63\n1  11121001    AST           21.00    F    63\n2  11121001    ALT           25.00    F    63\n3  11121001    ALP          104.00    F    63\n4  11121001    GGT           40.00    F    63",
      "text/html": "<div>\n<style scoped>\n    .dataframe tbody tr th:only-of-type {\n        vertical-align: middle;\n    }\n\n    .dataframe tbody tr th {\n        vertical-align: top;\n    }\n\n    .dataframe thead th {\n        text-align: right;\n    }\n</style>\n<table border=\"1\" class=\"dataframe\">\n  <thead>\n    <tr style=\"text-align: right;\">\n      <th></th>\n      <th>Orden</th>\n      <th>Prueba</th>\n      <th>Resultado Lab.</th>\n      <th>Sexo</th>\n      <th>Edad</th>\n    </tr>\n  </thead>\n  <tbody>\n    <tr>\n      <th>0</th>\n      <td>11121001</td>\n      <td>BILT</td>\n      <td>0.44</td>\n      <td>F</td>\n      <td>63</td>\n    </tr>\n    <tr>\n      <th>1</th>\n      <td>11121001</td>\n      <td>AST</td>\n      <td>21.00</td>\n      <td>F</td>\n      <td>63</td>\n    </tr>\n    <tr>\n      <th>2</th>\n      <td>11121001</td>\n      <td>ALT</td>\n      <td>25.00</td>\n      <td>F</td>\n      <td>63</td>\n    </tr>\n    <tr>\n      <th>3</th>\n      <td>11121001</td>\n      <td>ALP</td>\n      <td>104.00</td>\n      <td>F</td>\n      <td>63</td>\n    </tr>\n    <tr>\n      <th>4</th>\n      <td>11121001</td>\n      <td>GGT</td>\n      <td>40.00</td>\n      <td>F</td>\n      <td>63</td>\n    </tr>\n  </tbody>\n</table>\n</div>"
     },
     "execution_count": 36,
     "metadata": {},
     "output_type": "execute_result"
    }
   ],
   "source": [
    "hepa_data = pd.read_csv(\"sum.csv\")\n",
    "hepa_data.head()"
   ],
   "metadata": {
    "collapsed": false,
    "pycharm": {
     "name": "#%%\n"
    }
   }
  },
  {
   "cell_type": "code",
   "execution_count": 37,
   "outputs": [
    {
     "name": "stdout",
     "output_type": "stream",
     "text": [
      "<class 'pandas.core.frame.DataFrame'>\n",
      "RangeIndex: 2981 entries, 0 to 2980\n",
      "Data columns (total 5 columns):\n",
      " #   Column          Non-Null Count  Dtype  \n",
      "---  ------          --------------  -----  \n",
      " 0   Orden           2981 non-null   int64  \n",
      " 1   Prueba          2981 non-null   object \n",
      " 2   Resultado Lab.  2968 non-null   float64\n",
      " 3   Sexo            2971 non-null   object \n",
      " 4   Edad            2981 non-null   int64  \n",
      "dtypes: float64(1), int64(2), object(2)\n",
      "memory usage: 116.6+ KB\n"
     ]
    }
   ],
   "source": [
    "hepa_data.info()"
   ],
   "metadata": {
    "collapsed": false,
    "pycharm": {
     "name": "#%%\n"
    }
   }
  },
  {
   "cell_type": "code",
   "execution_count": 38,
   "outputs": [],
   "source": [
    "delete_this = [21221149,\n",
    "               31221128,\n",
    "               31221231,\n",
    "               61221498,\n",
    "               81221488,\n",
    "               91221268,\n",
    "               100122022,\n",
    "               100122097,\n",
    "               100122356,\n",
    "               101221028,\n",
    "               101221099,\n",
    "               101221366,\n",
    "               101221422,\n",
    "               131221190,\n",
    "               131221370,\n",
    "               131221388,\n",
    "               131221431,\n",
    "               141221021,\n",
    "               141221033,\n",
    "               141221048,\n",
    "               141221216,\n",
    "               161221148,\n",
    "               161221265,\n",
    "               161221325,\n",
    "               161221329,\n",
    "               161221374,\n",
    "               171221157,\n",
    "               171221183,\n",
    "               171221372,\n",
    "               181121260,\n",
    "               201221121,\n",
    "               201221161,\n",
    "               201221202,\n",
    "               211221031,\n",
    "               211221289,\n",
    "               211221342,\n",
    "               221221010,\n",
    "               231221195,\n",
    "               231221352,\n",
    "               241121102,\n",
    "               241121388,\n",
    "               241221163]"
   ],
   "metadata": {
    "collapsed": false,
    "pycharm": {
     "name": "#%%\n"
    }
   }
  },
  {
   "cell_type": "code",
   "execution_count": 39,
   "outputs": [
    {
     "data": {
      "text/plain": "      Orden Prueba  Resultado Lab. Sexo  Edad  Edad en Dias\n0  11121001   BILT            0.44    F    63         23011\n1  11121001    AST           21.00    F    63         23011\n2  11121001    ALT           25.00    F    63         23011\n3  11121001    ALP          104.00    F    63         23011\n4  11121001    GGT           40.00    F    63         23011",
      "text/html": "<div>\n<style scoped>\n    .dataframe tbody tr th:only-of-type {\n        vertical-align: middle;\n    }\n\n    .dataframe tbody tr th {\n        vertical-align: top;\n    }\n\n    .dataframe thead th {\n        text-align: right;\n    }\n</style>\n<table border=\"1\" class=\"dataframe\">\n  <thead>\n    <tr style=\"text-align: right;\">\n      <th></th>\n      <th>Orden</th>\n      <th>Prueba</th>\n      <th>Resultado Lab.</th>\n      <th>Sexo</th>\n      <th>Edad</th>\n      <th>Edad en Dias</th>\n    </tr>\n  </thead>\n  <tbody>\n    <tr>\n      <th>0</th>\n      <td>11121001</td>\n      <td>BILT</td>\n      <td>0.44</td>\n      <td>F</td>\n      <td>63</td>\n      <td>23011</td>\n    </tr>\n    <tr>\n      <th>1</th>\n      <td>11121001</td>\n      <td>AST</td>\n      <td>21.00</td>\n      <td>F</td>\n      <td>63</td>\n      <td>23011</td>\n    </tr>\n    <tr>\n      <th>2</th>\n      <td>11121001</td>\n      <td>ALT</td>\n      <td>25.00</td>\n      <td>F</td>\n      <td>63</td>\n      <td>23011</td>\n    </tr>\n    <tr>\n      <th>3</th>\n      <td>11121001</td>\n      <td>ALP</td>\n      <td>104.00</td>\n      <td>F</td>\n      <td>63</td>\n      <td>23011</td>\n    </tr>\n    <tr>\n      <th>4</th>\n      <td>11121001</td>\n      <td>GGT</td>\n      <td>40.00</td>\n      <td>F</td>\n      <td>63</td>\n      <td>23011</td>\n    </tr>\n  </tbody>\n</table>\n</div>"
     },
     "execution_count": 39,
     "metadata": {},
     "output_type": "execute_result"
    }
   ],
   "source": [
    "hepa_nov = pd.read_csv(\"nov.csv\")\n",
    "hepa_nov.head()"
   ],
   "metadata": {
    "collapsed": false,
    "pycharm": {
     "name": "#%%\n"
    }
   }
  },
  {
   "cell_type": "code",
   "execution_count": 40,
   "outputs": [
    {
     "name": "stdout",
     "output_type": "stream",
     "text": [
      "<class 'pandas.core.frame.DataFrame'>\n",
      "RangeIndex: 839 entries, 0 to 838\n",
      "Data columns (total 6 columns):\n",
      " #   Column          Non-Null Count  Dtype  \n",
      "---  ------          --------------  -----  \n",
      " 0   Orden           839 non-null    int64  \n",
      " 1   Prueba          839 non-null    object \n",
      " 2   Resultado Lab.  839 non-null    float64\n",
      " 3   Sexo            834 non-null    object \n",
      " 4   Edad            839 non-null    int64  \n",
      " 5   Edad en Dias    839 non-null    int64  \n",
      "dtypes: float64(1), int64(3), object(2)\n",
      "memory usage: 39.5+ KB\n"
     ]
    }
   ],
   "source": [
    "hepa_nov.info()"
   ],
   "metadata": {
    "collapsed": false,
    "pycharm": {
     "name": "#%%\n"
    }
   }
  },
  {
   "cell_type": "code",
   "execution_count": 41,
   "outputs": [
    {
     "data": {
      "text/plain": "(839, 6)"
     },
     "execution_count": 41,
     "metadata": {},
     "output_type": "execute_result"
    }
   ],
   "source": [
    "hepa_nov.shape"
   ],
   "metadata": {
    "collapsed": false,
    "pycharm": {
     "name": "#%%\n"
    }
   }
  },
  {
   "cell_type": "code",
   "execution_count": 42,
   "outputs": [
    {
     "data": {
      "text/plain": "              Orden  Resultado Lab.        Edad  Edad en Dias\ncount  8.390000e+02      839.000000  839.000000    839.000000\nmean   1.367389e+08       61.022920   43.358760  15836.654350\nstd    8.238194e+07      252.442907   20.716492   7566.647121\nmin    1.112100e+07        0.230000    3.000000   1096.000000\n25%    8.112114e+07       13.000000   28.000000  10227.000000\n50%    1.312211e+08       23.000000   46.000000  16801.000000\n75%    2.012211e+08       55.000000   60.000000  21915.000000\nmax    3.011214e+08     4942.000000   88.000000  32141.000000",
      "text/html": "<div>\n<style scoped>\n    .dataframe tbody tr th:only-of-type {\n        vertical-align: middle;\n    }\n\n    .dataframe tbody tr th {\n        vertical-align: top;\n    }\n\n    .dataframe thead th {\n        text-align: right;\n    }\n</style>\n<table border=\"1\" class=\"dataframe\">\n  <thead>\n    <tr style=\"text-align: right;\">\n      <th></th>\n      <th>Orden</th>\n      <th>Resultado Lab.</th>\n      <th>Edad</th>\n      <th>Edad en Dias</th>\n    </tr>\n  </thead>\n  <tbody>\n    <tr>\n      <th>count</th>\n      <td>8.390000e+02</td>\n      <td>839.000000</td>\n      <td>839.000000</td>\n      <td>839.000000</td>\n    </tr>\n    <tr>\n      <th>mean</th>\n      <td>1.367389e+08</td>\n      <td>61.022920</td>\n      <td>43.358760</td>\n      <td>15836.654350</td>\n    </tr>\n    <tr>\n      <th>std</th>\n      <td>8.238194e+07</td>\n      <td>252.442907</td>\n      <td>20.716492</td>\n      <td>7566.647121</td>\n    </tr>\n    <tr>\n      <th>min</th>\n      <td>1.112100e+07</td>\n      <td>0.230000</td>\n      <td>3.000000</td>\n      <td>1096.000000</td>\n    </tr>\n    <tr>\n      <th>25%</th>\n      <td>8.112114e+07</td>\n      <td>13.000000</td>\n      <td>28.000000</td>\n      <td>10227.000000</td>\n    </tr>\n    <tr>\n      <th>50%</th>\n      <td>1.312211e+08</td>\n      <td>23.000000</td>\n      <td>46.000000</td>\n      <td>16801.000000</td>\n    </tr>\n    <tr>\n      <th>75%</th>\n      <td>2.012211e+08</td>\n      <td>55.000000</td>\n      <td>60.000000</td>\n      <td>21915.000000</td>\n    </tr>\n    <tr>\n      <th>max</th>\n      <td>3.011214e+08</td>\n      <td>4942.000000</td>\n      <td>88.000000</td>\n      <td>32141.000000</td>\n    </tr>\n  </tbody>\n</table>\n</div>"
     },
     "execution_count": 42,
     "metadata": {},
     "output_type": "execute_result"
    }
   ],
   "source": [
    "hepa_nov.describe()"
   ],
   "metadata": {
    "collapsed": false,
    "pycharm": {
     "name": "#%%\n"
    }
   }
  },
  {
   "cell_type": "code",
   "execution_count": 43,
   "outputs": [
    {
     "name": "stdout",
     "output_type": "stream",
     "text": [
      "<class 'pandas.core.frame.DataFrame'>\n",
      "Int64Index: 690 entries, 0 to 838\n",
      "Data columns (total 6 columns):\n",
      " #   Column          Non-Null Count  Dtype  \n",
      "---  ------          --------------  -----  \n",
      " 0   Orden           690 non-null    int64  \n",
      " 1   Prueba          690 non-null    object \n",
      " 2   Resultado Lab.  690 non-null    float64\n",
      " 3   Sexo            685 non-null    object \n",
      " 4   Edad            690 non-null    int64  \n",
      " 5   Edad en Dias    690 non-null    int64  \n",
      "dtypes: float64(1), int64(3), object(2)\n",
      "memory usage: 37.7+ KB\n"
     ]
    }
   ],
   "source": [
    "nov5 = hepa_nov.drop(hepa_nov[hepa_nov.Orden.isin(delete_this)].index.tolist())\n",
    "nov5.info()"
   ],
   "metadata": {
    "collapsed": false,
    "pycharm": {
     "name": "#%%\n"
    }
   }
  },
  {
   "cell_type": "code",
   "execution_count": 44,
   "outputs": [
    {
     "data": {
      "text/plain": "Orden             0\nPrueba            0\nResultado Lab.    0\nSexo              5\nEdad              0\nEdad en Dias      0\ndtype: int64"
     },
     "execution_count": 44,
     "metadata": {},
     "output_type": "execute_result"
    }
   ],
   "source": [
    "nov5.isnull().sum()"
   ],
   "metadata": {
    "collapsed": false,
    "pycharm": {
     "name": "#%%\n"
    }
   }
  },
  {
   "cell_type": "code",
   "execution_count": 45,
   "outputs": [
    {
     "data": {
      "text/plain": "Orden             0\nPrueba            0\nResultado Lab.    0\nSexo              0\nEdad              0\nEdad en Dias      0\ndtype: int64"
     },
     "execution_count": 45,
     "metadata": {},
     "output_type": "execute_result"
    }
   ],
   "source": [
    "mulls = nov5.drop(nov5[nov5.Sexo.isnull()].index.tolist())\n",
    "mulls.isnull().sum()"
   ],
   "metadata": {
    "collapsed": false,
    "pycharm": {
     "name": "#%%\n"
    }
   }
  },
  {
   "cell_type": "code",
   "execution_count": 46,
   "outputs": [
    {
     "name": "stdout",
     "output_type": "stream",
     "text": [
      "<class 'pandas.core.frame.DataFrame'>\n",
      "Int64Index: 685 entries, 0 to 838\n",
      "Data columns (total 6 columns):\n",
      " #   Column          Non-Null Count  Dtype  \n",
      "---  ------          --------------  -----  \n",
      " 0   Orden           685 non-null    int64  \n",
      " 1   Prueba          685 non-null    object \n",
      " 2   Resultado Lab.  685 non-null    float64\n",
      " 3   Sexo            685 non-null    object \n",
      " 4   Edad            685 non-null    int64  \n",
      " 5   Edad en Dias    685 non-null    int64  \n",
      "dtypes: float64(1), int64(3), object(2)\n",
      "memory usage: 37.5+ KB\n"
     ]
    }
   ],
   "source": [
    "mulls.info()"
   ],
   "metadata": {
    "collapsed": false,
    "pycharm": {
     "name": "#%%\n"
    }
   }
  },
  {
   "cell_type": "code",
   "execution_count": 47,
   "outputs": [
    {
     "data": {
      "text/plain": "Orden             22\nPrueba             5\nResultado Lab.    84\nSexo               2\nEdad              10\ndtype: int64"
     },
     "execution_count": 47,
     "metadata": {},
     "output_type": "execute_result"
    }
   ],
   "source": [
    "menores = mulls[mulls['Edad'] <= 17]\n",
    "menores.nunique().head()"
   ],
   "metadata": {
    "collapsed": false,
    "pycharm": {
     "name": "#%%\n"
    }
   }
  },
  {
   "cell_type": "code",
   "execution_count": 48,
   "outputs": [
    {
     "name": "stdout",
     "output_type": "stream",
     "text": [
      "<class 'pandas.core.frame.DataFrame'>\n",
      "Int64Index: 110 entries, 10 to 838\n",
      "Data columns (total 6 columns):\n",
      " #   Column          Non-Null Count  Dtype  \n",
      "---  ------          --------------  -----  \n",
      " 0   Orden           110 non-null    int64  \n",
      " 1   Prueba          110 non-null    object \n",
      " 2   Resultado Lab.  110 non-null    float64\n",
      " 3   Sexo            110 non-null    object \n",
      " 4   Edad            110 non-null    int64  \n",
      " 5   Edad en Dias    110 non-null    int64  \n",
      "dtypes: float64(1), int64(3), object(2)\n",
      "memory usage: 6.0+ KB\n"
     ]
    }
   ],
   "source": [
    "menores.info()"
   ],
   "metadata": {
    "collapsed": false,
    "pycharm": {
     "name": "#%%\n"
    }
   }
  },
  {
   "cell_type": "code",
   "execution_count": 49,
   "outputs": [
    {
     "data": {
      "text/plain": "       Orden Prueba  Resultado Lab. Sexo  Edad  Edad en Dias\n10  11121365   BILT             0.6    M    17          6209\n11  11121365    AST            23.0    M    17          6209\n12  11121365    ALT            15.0    M    17          6209\n13  11121365    ALP           189.0    M    17          6209\n14  11121365    GGT            15.0    M    17          6209",
      "text/html": "<div>\n<style scoped>\n    .dataframe tbody tr th:only-of-type {\n        vertical-align: middle;\n    }\n\n    .dataframe tbody tr th {\n        vertical-align: top;\n    }\n\n    .dataframe thead th {\n        text-align: right;\n    }\n</style>\n<table border=\"1\" class=\"dataframe\">\n  <thead>\n    <tr style=\"text-align: right;\">\n      <th></th>\n      <th>Orden</th>\n      <th>Prueba</th>\n      <th>Resultado Lab.</th>\n      <th>Sexo</th>\n      <th>Edad</th>\n      <th>Edad en Dias</th>\n    </tr>\n  </thead>\n  <tbody>\n    <tr>\n      <th>10</th>\n      <td>11121365</td>\n      <td>BILT</td>\n      <td>0.6</td>\n      <td>M</td>\n      <td>17</td>\n      <td>6209</td>\n    </tr>\n    <tr>\n      <th>11</th>\n      <td>11121365</td>\n      <td>AST</td>\n      <td>23.0</td>\n      <td>M</td>\n      <td>17</td>\n      <td>6209</td>\n    </tr>\n    <tr>\n      <th>12</th>\n      <td>11121365</td>\n      <td>ALT</td>\n      <td>15.0</td>\n      <td>M</td>\n      <td>17</td>\n      <td>6209</td>\n    </tr>\n    <tr>\n      <th>13</th>\n      <td>11121365</td>\n      <td>ALP</td>\n      <td>189.0</td>\n      <td>M</td>\n      <td>17</td>\n      <td>6209</td>\n    </tr>\n    <tr>\n      <th>14</th>\n      <td>11121365</td>\n      <td>GGT</td>\n      <td>15.0</td>\n      <td>M</td>\n      <td>17</td>\n      <td>6209</td>\n    </tr>\n  </tbody>\n</table>\n</div>"
     },
     "execution_count": 49,
     "metadata": {},
     "output_type": "execute_result"
    }
   ],
   "source": [
    "menores.head()"
   ],
   "metadata": {
    "collapsed": false,
    "pycharm": {
     "name": "#%%\n"
    }
   }
  },
  {
   "cell_type": "markdown",
   "source": [
    "# Quitar menores equivale a 110 pruebas de 22 personas."
   ],
   "metadata": {
    "collapsed": false
   }
  },
  {
   "cell_type": "code",
   "execution_count": 50,
   "outputs": [
    {
     "name": "stdout",
     "output_type": "stream",
     "text": [
      "<class 'pandas.core.frame.DataFrame'>\n",
      "Int64Index: 575 entries, 0 to 833\n",
      "Data columns (total 5 columns):\n",
      " #   Column          Non-Null Count  Dtype  \n",
      "---  ------          --------------  -----  \n",
      " 0   Orden           575 non-null    int64  \n",
      " 1   Prueba          575 non-null    object \n",
      " 2   Resultado Lab.  575 non-null    float64\n",
      " 3   Sexo            575 non-null    object \n",
      " 4   Edad            575 non-null    int64  \n",
      "dtypes: float64(1), int64(2), object(2)\n",
      "memory usage: 27.0+ KB\n"
     ]
    }
   ],
   "source": [
    "nov5 = mulls[mulls['Edad'] > 17]\n",
    "nov5 = nov5.drop(columns='Edad en Dias')\n",
    "nov5.info()"
   ],
   "metadata": {
    "collapsed": false,
    "pycharm": {
     "name": "#%%\n"
    }
   }
  },
  {
   "cell_type": "markdown",
   "source": [
    "# Quedan 575 pruebas para 115 personas"
   ],
   "metadata": {
    "collapsed": false
   }
  },
  {
   "cell_type": "code",
   "execution_count": 51,
   "outputs": [
    {
     "name": "stdout",
     "output_type": "stream",
     "text": [
      "[[11121001 'BILT' 0.44 'F' 63]\n",
      " [11121001 'AST' 21.0 'F' 63]\n",
      " [11121001 'ALT' 25.0 'F' 63]\n",
      " ...\n",
      " [301121422 'ALT' 16.0 'F' 29]\n",
      " [301121422 'ALP' 188.0 'F' 29]\n",
      " [301121422 'GGT' 25.0 'F' 29]]\n"
     ]
    }
   ],
   "source": [
    "novnp = nov5.to_numpy()\n",
    "print(novnp)"
   ],
   "metadata": {
    "collapsed": false,
    "pycharm": {
     "name": "#%%\n"
    }
   }
  },
  {
   "cell_type": "code",
   "execution_count": 52,
   "outputs": [
    {
     "data": {
      "text/plain": "(575, 5)"
     },
     "execution_count": 52,
     "metadata": {},
     "output_type": "execute_result"
    }
   ],
   "source": [
    "novnp.shape"
   ],
   "metadata": {
    "collapsed": false,
    "pycharm": {
     "name": "#%%\n"
    }
   }
  },
  {
   "cell_type": "code",
   "execution_count": 53,
   "outputs": [
    {
     "data": {
      "text/plain": "[11121001,\n 11121244,\n 11121387,\n 11221170,\n 11221300,\n 21121092,\n 21121211,\n 21121488,\n 21221017,\n 21221026,\n 21221237,\n 21221327,\n 21221330,\n 21221337,\n 21221362,\n 21221492,\n 31121017,\n 31121043,\n 31121074,\n 31221097,\n 31221329,\n 31221350,\n 31221429,\n 41121102,\n 41121166,\n 41121313,\n 41121371,\n 51121104,\n 51121118,\n 51121168,\n 51121184,\n 51121193,\n 51221015,\n 61121029,\n 81121142,\n 81121147,\n 81121309,\n 81121337,\n 81121340,\n 81121353,\n 81121405,\n 101121060,\n 101121213,\n 101221287,\n 110122034,\n 110122331,\n 110122334,\n 111121322,\n 111121390,\n 111121519,\n 111221076,\n 120122074,\n 120122384,\n 121121074,\n 121121306,\n 121121322,\n 121121471,\n 130122030,\n 130122317,\n 130122401,\n 131221103,\n 140122111,\n 140122243,\n 141221042,\n 151121157,\n 151121158,\n 151121435,\n 151221521,\n 161121152,\n 161121206,\n 161121287,\n 161121356,\n 161121394,\n 161121452,\n 170122200,\n 170122521,\n 171121027,\n 171121031,\n 171121032,\n 171121209,\n 171121222,\n 181121512,\n 191121265,\n 191121400,\n 231121233,\n 231121237,\n 231121257,\n 231121268,\n 231121271,\n 241121171,\n 241121253,\n 241121266,\n 241121326,\n 241221056,\n 241221110,\n 241221235,\n 251121222,\n 251121459,\n 261121203,\n 261121242,\n 261121248,\n 261121368,\n 261121393,\n 261121459,\n 261121465,\n 261221006,\n 271221116,\n 271221292,\n 271221317,\n 271221363,\n 281121006,\n 281221325,\n 301121072,\n 301121381,\n 301121422]"
     },
     "execution_count": 53,
     "metadata": {},
     "output_type": "execute_result"
    }
   ],
   "source": [
    "temp_ced = []\n",
    "temp_BLT = []\n",
    "temp_AST = []\n",
    "temp_ALT = []\n",
    "temp_ALP = []\n",
    "temp_GGT = []\n",
    "temp_age = []\n",
    "temp_sex = []\n",
    "count = 0\n",
    "for row in novnp:\n",
    "    if count == 5:\n",
    "        count = 0\n",
    "    if row[0] not in temp_ced:\n",
    "        temp_ced.append(row[0])\n",
    "    if count == 0:\n",
    "        temp_sex.append(row[3])\n",
    "        temp_age.append(row[4])\n",
    "    match row[1]:\n",
    "        case \"BILT\":\n",
    "            temp_BLT.append(row[2])\n",
    "        case \"AST\":\n",
    "            temp_AST.append(row[2])\n",
    "        case \"ALT\":\n",
    "            temp_ALT.append(row[2])\n",
    "        case \"ALP\":\n",
    "            temp_ALP.append(row[2])\n",
    "        case _:\n",
    "            temp_GGT.append(row[2])\n",
    "    count += 1\n",
    "temp_ced"
   ],
   "metadata": {
    "collapsed": false,
    "pycharm": {
     "name": "#%%\n"
    }
   }
  },
  {
   "cell_type": "code",
   "execution_count": 54,
   "outputs": [
    {
     "data": {
      "text/plain": "     Age Sex    ALP    ALT    AST  BILT    GGT     Cedula\n0     63   F  104.0   25.0   21.0  0.44   40.0   11121001\n1     22   F   94.0    9.0   18.0  0.38   19.0   11121244\n2     61   F   91.0   22.0   19.0  0.80   20.0   11121387\n3     62   F   68.0   11.0   15.0  0.56   17.0   11221170\n4     29   F   76.0   15.0   20.0  0.58   16.0   11221300\n..   ...  ..    ...    ...    ...   ...    ...        ...\n110   60   M  342.0  167.0  118.0  0.46  149.0  281121006\n111   62   F   82.0   24.0   28.0  1.55   39.0  281221325\n112   59   F   90.0   33.0   32.0  0.53   82.0  301121072\n113   44   F   80.0   24.0   23.0  0.99   17.0  301121381\n114   29   F  188.0   16.0   17.0  0.58   25.0  301121422\n\n[115 rows x 8 columns]",
      "text/html": "<div>\n<style scoped>\n    .dataframe tbody tr th:only-of-type {\n        vertical-align: middle;\n    }\n\n    .dataframe tbody tr th {\n        vertical-align: top;\n    }\n\n    .dataframe thead th {\n        text-align: right;\n    }\n</style>\n<table border=\"1\" class=\"dataframe\">\n  <thead>\n    <tr style=\"text-align: right;\">\n      <th></th>\n      <th>Age</th>\n      <th>Sex</th>\n      <th>ALP</th>\n      <th>ALT</th>\n      <th>AST</th>\n      <th>BILT</th>\n      <th>GGT</th>\n      <th>Cedula</th>\n    </tr>\n  </thead>\n  <tbody>\n    <tr>\n      <th>0</th>\n      <td>63</td>\n      <td>F</td>\n      <td>104.0</td>\n      <td>25.0</td>\n      <td>21.0</td>\n      <td>0.44</td>\n      <td>40.0</td>\n      <td>11121001</td>\n    </tr>\n    <tr>\n      <th>1</th>\n      <td>22</td>\n      <td>F</td>\n      <td>94.0</td>\n      <td>9.0</td>\n      <td>18.0</td>\n      <td>0.38</td>\n      <td>19.0</td>\n      <td>11121244</td>\n    </tr>\n    <tr>\n      <th>2</th>\n      <td>61</td>\n      <td>F</td>\n      <td>91.0</td>\n      <td>22.0</td>\n      <td>19.0</td>\n      <td>0.80</td>\n      <td>20.0</td>\n      <td>11121387</td>\n    </tr>\n    <tr>\n      <th>3</th>\n      <td>62</td>\n      <td>F</td>\n      <td>68.0</td>\n      <td>11.0</td>\n      <td>15.0</td>\n      <td>0.56</td>\n      <td>17.0</td>\n      <td>11221170</td>\n    </tr>\n    <tr>\n      <th>4</th>\n      <td>29</td>\n      <td>F</td>\n      <td>76.0</td>\n      <td>15.0</td>\n      <td>20.0</td>\n      <td>0.58</td>\n      <td>16.0</td>\n      <td>11221300</td>\n    </tr>\n    <tr>\n      <th>...</th>\n      <td>...</td>\n      <td>...</td>\n      <td>...</td>\n      <td>...</td>\n      <td>...</td>\n      <td>...</td>\n      <td>...</td>\n      <td>...</td>\n    </tr>\n    <tr>\n      <th>110</th>\n      <td>60</td>\n      <td>M</td>\n      <td>342.0</td>\n      <td>167.0</td>\n      <td>118.0</td>\n      <td>0.46</td>\n      <td>149.0</td>\n      <td>281121006</td>\n    </tr>\n    <tr>\n      <th>111</th>\n      <td>62</td>\n      <td>F</td>\n      <td>82.0</td>\n      <td>24.0</td>\n      <td>28.0</td>\n      <td>1.55</td>\n      <td>39.0</td>\n      <td>281221325</td>\n    </tr>\n    <tr>\n      <th>112</th>\n      <td>59</td>\n      <td>F</td>\n      <td>90.0</td>\n      <td>33.0</td>\n      <td>32.0</td>\n      <td>0.53</td>\n      <td>82.0</td>\n      <td>301121072</td>\n    </tr>\n    <tr>\n      <th>113</th>\n      <td>44</td>\n      <td>F</td>\n      <td>80.0</td>\n      <td>24.0</td>\n      <td>23.0</td>\n      <td>0.99</td>\n      <td>17.0</td>\n      <td>301121381</td>\n    </tr>\n    <tr>\n      <th>114</th>\n      <td>29</td>\n      <td>F</td>\n      <td>188.0</td>\n      <td>16.0</td>\n      <td>17.0</td>\n      <td>0.58</td>\n      <td>25.0</td>\n      <td>301121422</td>\n    </tr>\n  </tbody>\n</table>\n<p>115 rows × 8 columns</p>\n</div>"
     },
     "execution_count": 54,
     "metadata": {},
     "output_type": "execute_result"
    }
   ],
   "source": [
    "clean_dict = {\n",
    "    'Age':temp_age,\n",
    "    'Sex':temp_sex,\n",
    "    'ALP':temp_ALP,\n",
    "    \"ALT\":temp_ALT,\n",
    "    'AST':temp_AST,\n",
    "    'BILT':temp_BLT,\n",
    "    'GGT':temp_GGT,\n",
    "    'Cedula':temp_ced,\n",
    "\n",
    "}\n",
    "df = pd.DataFrame(clean_dict)\n",
    "df"
   ],
   "metadata": {
    "collapsed": false,
    "pycharm": {
     "name": "#%%\n"
    }
   }
  },
  {
   "cell_type": "code",
   "execution_count": 55,
   "outputs": [
    {
     "name": "stdout",
     "output_type": "stream",
     "text": [
      "<class 'pandas.core.frame.DataFrame'>\n",
      "RangeIndex: 115 entries, 0 to 114\n",
      "Data columns (total 8 columns):\n",
      " #   Column  Non-Null Count  Dtype  \n",
      "---  ------  --------------  -----  \n",
      " 0   Age     115 non-null    int64  \n",
      " 1   Sex     115 non-null    object \n",
      " 2   ALP     115 non-null    float64\n",
      " 3   ALT     115 non-null    float64\n",
      " 4   AST     115 non-null    float64\n",
      " 5   BILT    115 non-null    float64\n",
      " 6   GGT     115 non-null    float64\n",
      " 7   Cedula  115 non-null    int64  \n",
      "dtypes: float64(5), int64(2), object(1)\n",
      "memory usage: 7.3+ KB\n"
     ]
    }
   ],
   "source": [
    "df.info()"
   ],
   "metadata": {
    "collapsed": false,
    "pycharm": {
     "name": "#%%\n"
    }
   }
  },
  {
   "cell_type": "code",
   "execution_count": 56,
   "outputs": [
    {
     "data": {
      "text/plain": "        count          mean           std         min         25%  \\\nAge     115.0  4.928696e+01  1.691141e+01        20.0        34.5   \nALP     115.0  1.020783e+02  4.553525e+01        43.0        76.0   \nALT     115.0  3.799130e+01  7.433831e+01         8.0        15.0   \nAST     115.0  3.417391e+01  4.801412e+01        14.0        19.0   \nBILT    115.0  7.846087e-01  4.834603e-01         0.3         0.5   \nGGT     115.0  6.573913e+01  1.180147e+02        10.0        18.0   \nCedula  115.0  1.362596e+08  8.925846e+07  11121001.0  51121143.0   \n\n                 50%           75%           max  \nAge     5.000000e+01  6.200000e+01  8.800000e+01  \nALP     9.000000e+01  1.080000e+02  3.420000e+02  \nALT     2.200000e+01  3.050000e+01  6.140000e+02  \nAST     2.400000e+01  2.950000e+01  4.060000e+02  \nBILT    6.300000e-01  9.250000e-01  3.080000e+00  \nGGT     2.900000e+01  5.550000e+01  8.840000e+02  \nCedula  1.301220e+08  2.311212e+08  3.011214e+08  ",
      "text/html": "<div>\n<style scoped>\n    .dataframe tbody tr th:only-of-type {\n        vertical-align: middle;\n    }\n\n    .dataframe tbody tr th {\n        vertical-align: top;\n    }\n\n    .dataframe thead th {\n        text-align: right;\n    }\n</style>\n<table border=\"1\" class=\"dataframe\">\n  <thead>\n    <tr style=\"text-align: right;\">\n      <th></th>\n      <th>count</th>\n      <th>mean</th>\n      <th>std</th>\n      <th>min</th>\n      <th>25%</th>\n      <th>50%</th>\n      <th>75%</th>\n      <th>max</th>\n    </tr>\n  </thead>\n  <tbody>\n    <tr>\n      <th>Age</th>\n      <td>115.0</td>\n      <td>4.928696e+01</td>\n      <td>1.691141e+01</td>\n      <td>20.0</td>\n      <td>34.5</td>\n      <td>5.000000e+01</td>\n      <td>6.200000e+01</td>\n      <td>8.800000e+01</td>\n    </tr>\n    <tr>\n      <th>ALP</th>\n      <td>115.0</td>\n      <td>1.020783e+02</td>\n      <td>4.553525e+01</td>\n      <td>43.0</td>\n      <td>76.0</td>\n      <td>9.000000e+01</td>\n      <td>1.080000e+02</td>\n      <td>3.420000e+02</td>\n    </tr>\n    <tr>\n      <th>ALT</th>\n      <td>115.0</td>\n      <td>3.799130e+01</td>\n      <td>7.433831e+01</td>\n      <td>8.0</td>\n      <td>15.0</td>\n      <td>2.200000e+01</td>\n      <td>3.050000e+01</td>\n      <td>6.140000e+02</td>\n    </tr>\n    <tr>\n      <th>AST</th>\n      <td>115.0</td>\n      <td>3.417391e+01</td>\n      <td>4.801412e+01</td>\n      <td>14.0</td>\n      <td>19.0</td>\n      <td>2.400000e+01</td>\n      <td>2.950000e+01</td>\n      <td>4.060000e+02</td>\n    </tr>\n    <tr>\n      <th>BILT</th>\n      <td>115.0</td>\n      <td>7.846087e-01</td>\n      <td>4.834603e-01</td>\n      <td>0.3</td>\n      <td>0.5</td>\n      <td>6.300000e-01</td>\n      <td>9.250000e-01</td>\n      <td>3.080000e+00</td>\n    </tr>\n    <tr>\n      <th>GGT</th>\n      <td>115.0</td>\n      <td>6.573913e+01</td>\n      <td>1.180147e+02</td>\n      <td>10.0</td>\n      <td>18.0</td>\n      <td>2.900000e+01</td>\n      <td>5.550000e+01</td>\n      <td>8.840000e+02</td>\n    </tr>\n    <tr>\n      <th>Cedula</th>\n      <td>115.0</td>\n      <td>1.362596e+08</td>\n      <td>8.925846e+07</td>\n      <td>11121001.0</td>\n      <td>51121143.0</td>\n      <td>1.301220e+08</td>\n      <td>2.311212e+08</td>\n      <td>3.011214e+08</td>\n    </tr>\n  </tbody>\n</table>\n</div>"
     },
     "execution_count": 56,
     "metadata": {},
     "output_type": "execute_result"
    }
   ],
   "source": [
    "df.describe().T"
   ],
   "metadata": {
    "collapsed": false,
    "pycharm": {
     "name": "#%%\n"
    }
   }
  },
  {
   "cell_type": "code",
   "execution_count": 57,
   "outputs": [
    {
     "data": {
      "text/plain": "<AxesSubplot:xlabel='ALP', ylabel='Density'>"
     },
     "execution_count": 57,
     "metadata": {},
     "output_type": "execute_result"
    },
    {
     "data": {
      "text/plain": "<Figure size 720x576 with 1 Axes>",
      "image/png": "[encoded data removed]"
     },
     "metadata": {},
     "output_type": "display_data"
    }
   ],
   "source": [
    "sns.set_style('dark')\n",
    "plt.figure(figsize=(10, 8))\n",
    "sns.distplot(a= df['ALP'], kde=True)"
   ],
   "metadata": {
    "collapsed": false,
    "pycharm": {
     "name": "#%%\n"
    }
   }
  },
  {
   "cell_type": "code",
   "execution_count": 58,
   "outputs": [
    {
     "data": {
      "text/plain": "<AxesSubplot:xlabel='AST', ylabel='Density'>"
     },
     "execution_count": 58,
     "metadata": {},
     "output_type": "execute_result"
    },
    {
     "data": {
      "text/plain": "<Figure size 720x576 with 1 Axes>",
      "image/png": "[encoded data removed]"
     },
     "metadata": {},
     "output_type": "display_data"
    }
   ],
   "source": [
    "sns.set_style('white')\n",
    "plt.figure(figsize=(10, 8))\n",
    "sns.distplot(a= df['AST'], kde=True)"
   ],
   "metadata": {
    "collapsed": false,
    "pycharm": {
     "name": "#%%\n"
    }
   }
  },
  {
   "cell_type": "code",
   "execution_count": 59,
   "outputs": [
    {
     "data": {
      "text/plain": "<AxesSubplot:xlabel='ALT', ylabel='Density'>"
     },
     "execution_count": 59,
     "metadata": {},
     "output_type": "execute_result"
    },
    {
     "data": {
      "text/plain": "<Figure size 720x576 with 1 Axes>",
      "image/png": "[encoded data removed]"
     },
     "metadata": {},
     "output_type": "display_data"
    }
   ],
   "source": [
    "sns.set_style('ticks')\n",
    "plt.figure(figsize=(10, 8))\n",
    "sns.distplot(a= df['ALT'], kde=True)"
   ],
   "metadata": {
    "collapsed": false,
    "pycharm": {
     "name": "#%%\n"
    }
   }
  },
  {
   "cell_type": "code",
   "execution_count": 60,
   "outputs": [
    {
     "data": {
      "text/plain": "<AxesSubplot:xlabel='BILT', ylabel='Density'>"
     },
     "execution_count": 60,
     "metadata": {},
     "output_type": "execute_result"
    },
    {
     "data": {
      "text/plain": "<Figure size 720x576 with 1 Axes>",
      "image/png": "[encoded data removed]"
     },
     "metadata": {},
     "output_type": "display_data"
    }
   ],
   "source": [
    "sns.set_style('darkgrid')\n",
    "plt.figure(figsize=(10, 8))\n",
    "sns.distplot(a= df['BILT'], kde=True)"
   ],
   "metadata": {
    "collapsed": false,
    "pycharm": {
     "name": "#%%\n"
    }
   }
  },
  {
   "cell_type": "code",
   "execution_count": 61,
   "outputs": [
    {
     "data": {
      "text/plain": "<AxesSubplot:xlabel='GGT', ylabel='Density'>"
     },
     "execution_count": 61,
     "metadata": {},
     "output_type": "execute_result"
    },
    {
     "data": {
      "text/plain": "<Figure size 720x576 with 1 Axes>",
      "image/png": "[encoded data removed]"
     },
     "metadata": {},
     "output_type": "display_data"
    }
   ],
   "source": [
    "sns.set_style('dark')\n",
    "plt.figure(figsize=(10, 8))\n",
    "sns.distplot(a= df['GGT'], kde=True)"
   ],
   "metadata": {
    "collapsed": false,
    "pycharm": {
     "name": "#%%\n"
    }
   }
  },
  {
   "cell_type": "code",
   "execution_count": 62,
   "outputs": [],
   "source": [
    "#df.drop(columns=\"Cedula\")\n",
    "df.to_csv(\"nov_clean.csv\", index=False)"
   ],
   "metadata": {
    "collapsed": false,
    "pycharm": {
     "name": "#%%\n"
    }
   }
  }
 ],
 "metadata": {
  "kernelspec": {
   "display_name": "Python 3",
   "language": "python",
   "name": "python3"
  },
  "language_info": {
   "codemirror_mode": {
    "name": "ipython",
    "version": 2
   },
   "file_extension": ".py",
   "mimetype": "text/x-python",
   "name": "python",
   "nbconvert_exporter": "python",
   "pygments_lexer": "ipython2",
   "version": "2.7.6"
  }
 },
 "nbformat": 4,
 "nbformat_minor": 0
}